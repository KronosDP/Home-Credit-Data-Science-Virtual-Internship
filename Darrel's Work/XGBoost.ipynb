{
 "cells": [
  {
   "cell_type": "code",
   "execution_count": 1,
   "metadata": {},
   "outputs": [],
   "source": [
    "import pandas as pd\n",
    "import numpy as np\n",
    "import matplotlib.pyplot as plt\n",
    "from sklearn.model_selection import train_test_split \n",
    "from sklearn.metrics import accuracy_score, recall_score, precision_score, f1_score\n",
    "from sklearn.model_selection import RandomizedSearchCV\n",
    "import xgboost as xgb"
   ]
  },
  {
   "cell_type": "markdown",
   "metadata": {},
   "source": [
    "To make things faster, we're gonna use this notebook to train our xgboost models."
   ]
  },
  {
   "cell_type": "code",
   "execution_count": 2,
   "metadata": {},
   "outputs": [],
   "source": [
    "train = pd.read_csv(\"Darrel_Dataset/train_agg_fe_domain.csv\")\n",
    "test = pd.read_csv(\"Darrel_Dataset/test_agg_fe_domain.csv\")"
   ]
  },
  {
   "cell_type": "code",
   "execution_count": 5,
   "metadata": {},
   "outputs": [],
   "source": [
    "train = train.drop(['EXT_SOURCE_3_plus_EXT_SOURCE_2', 'EXT_SOURCE_1_plus_EXT_SOURCE_3', 'EXT_SOURCE_1_plus_EXT_SOURCE_2'], axis=1)\n",
    "test = test.drop(['EXT_SOURCE_3_plus_EXT_SOURCE_2', 'EXT_SOURCE_1_plus_EXT_SOURCE_3', 'EXT_SOURCE_1_plus_EXT_SOURCE_2'], axis=1)"
   ]
  },
  {
   "cell_type": "code",
   "execution_count": 6,
   "metadata": {},
   "outputs": [],
   "source": [
    "def xgboost(train, test):\n",
    "    \n",
    "    X = train.iloc[:,1:-1]\n",
    "    y = train.iloc[:,-1]\n",
    "\n",
    "    X_train, X_test, y_train, y_test = train_test_split(X, y, test_size=0.8, random_state=42)\n",
    "\n",
    "    model = xgb.XGBClassifier(tree_method=\"gpu_hist\")\n",
    "    model.fit(X_train, y_train)\n",
    "    y_pred = model.predict(X_test)\n",
    "\n",
    "    print(\"accuracy score\", accuracy_score(y_test, y_pred))\n",
    "    print(\"recall score\", recall_score(y_test, y_pred))\n",
    "    print(\"precision score\", precision_score(y_test, y_pred))\n",
    "    print(\"F1 score\", f1_score(y_test, y_pred))\n",
    "\n",
    "    X_train = train.iloc[:,1:-1]\n",
    "    X_test = test.iloc[:,1:]\n",
    "    y_train = train.iloc[:,-1]\n",
    "\n",
    "    model = xgb.XGBClassifier(tree_method=\"gpu_hist\")\n",
    "    model.fit(X_train, y_train)\n",
    "    y_pred = model.predict_proba(X_test)\n",
    "\n",
    "    # Because it's 2 dimentsional...\n",
    "    y_pred = y_pred[:, 1]\n",
    "\n",
    "    test_ids = test['SK_ID_CURR']\n",
    "    submission = pd.DataFrame({'SK_ID_CURR': test_ids, 'TARGET': y_pred})\n",
    "\n",
    "    return submission"
   ]
  },
  {
   "cell_type": "code",
   "execution_count": 7,
   "metadata": {},
   "outputs": [
    {
     "name": "stdout",
     "output_type": "stream",
     "text": [
      "accuracy score 0.9166646341959139\n",
      "recall score 0.05604556221964619\n",
      "precision score 0.3855755894590846\n",
      "F1 score 0.09786578657865787\n"
     ]
    }
   ],
   "source": [
    "xgboost(train, test).to_csv(\"Submission/xgboost_agg_fe_domain.csv\", index=False)"
   ]
  },
  {
   "cell_type": "code",
   "execution_count": null,
   "metadata": {},
   "outputs": [],
   "source": []
  }
 ],
 "metadata": {
  "kernelspec": {
   "display_name": "Python 3",
   "language": "python",
   "name": "python3"
  },
  "language_info": {
   "codemirror_mode": {
    "name": "ipython",
    "version": 3
   },
   "file_extension": ".py",
   "mimetype": "text/x-python",
   "name": "python",
   "nbconvert_exporter": "python",
   "pygments_lexer": "ipython3",
   "version": "3.10.5"
  },
  "orig_nbformat": 4
 },
 "nbformat": 4,
 "nbformat_minor": 2
}
