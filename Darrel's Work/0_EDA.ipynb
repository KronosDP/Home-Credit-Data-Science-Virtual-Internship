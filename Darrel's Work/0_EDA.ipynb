{
 "cells": [
  {
   "cell_type": "code",
   "execution_count": 434,
   "metadata": {},
   "outputs": [],
   "source": [
    "import pandas as pd\n",
    "import numpy as np\n",
    "import matplotlib.pyplot as plt\n",
    "import seaborn as sns\n",
    "\n",
    "from sklearn.preprocessing import LabelEncoder\n",
    "\n",
    "from sklearn.experimental import enable_iterative_imputer\n",
    "from sklearn.impute import IterativeImputer\n",
    "import xgboost as xgb"
   ]
  },
  {
   "cell_type": "code",
   "execution_count": 435,
   "metadata": {},
   "outputs": [],
   "source": [
    "train = pd.read_csv('../input/application_train.csv')\n",
    "test = pd.read_csv('../input/application_test.csv')"
   ]
  },
  {
   "cell_type": "code",
   "execution_count": 436,
   "metadata": {},
   "outputs": [
    {
     "data": {
      "text/plain": [
       "((307511, 122), (48744, 121))"
      ]
     },
     "execution_count": 436,
     "metadata": {},
     "output_type": "execute_result"
    }
   ],
   "source": [
    "train.shape, test.shape"
   ]
  },
  {
   "cell_type": "code",
   "execution_count": 437,
   "metadata": {},
   "outputs": [],
   "source": [
    "# Function to calculate missing values by column# Funct \n",
    "def missing_values_table(df):\n",
    "        # Total missing values\n",
    "        mis_val = df.isnull().sum()\n",
    "        \n",
    "        # Percentage of missing values\n",
    "        mis_val_percent = 100 * df.isnull().sum() / len(df)\n",
    "        \n",
    "        # Make a table with the results\n",
    "        mis_val_table = pd.concat([mis_val, mis_val_percent], axis=1)\n",
    "        \n",
    "        # Rename the columns\n",
    "        mis_val_table_ren_columns = mis_val_table.rename(\n",
    "        columns = {0 : 'Missing Values', 1 : '% of Total Values'})\n",
    "        \n",
    "        # Sort the table by percentage of missing descending\n",
    "        mis_val_table_ren_columns = mis_val_table_ren_columns[\n",
    "            mis_val_table_ren_columns.iloc[:,1] != 0].sort_values(\n",
    "        '% of Total Values', ascending=False).round(1)\n",
    "        \n",
    "        # Print some summary information\n",
    "        print (\"Your selected dataframe has \" + str(df.shape[1]) + \" columns.\\n\"      \n",
    "            \"There are \" + str(mis_val_table_ren_columns.shape[0]) +\n",
    "              \" columns that have missing values.\")\n",
    "        \n",
    "        # Return the dataframe with missing information\n",
    "        return mis_val_table_ren_columns"
   ]
  },
  {
   "cell_type": "code",
   "execution_count": 438,
   "metadata": {},
   "outputs": [
    {
     "name": "stdout",
     "output_type": "stream",
     "text": [
      "Your selected dataframe has 122 columns.\n",
      "There are 67 columns that have missing values.\n"
     ]
    },
    {
     "data": {
      "text/html": [
       "<div>\n",
       "<style scoped>\n",
       "    .dataframe tbody tr th:only-of-type {\n",
       "        vertical-align: middle;\n",
       "    }\n",
       "\n",
       "    .dataframe tbody tr th {\n",
       "        vertical-align: top;\n",
       "    }\n",
       "\n",
       "    .dataframe thead th {\n",
       "        text-align: right;\n",
       "    }\n",
       "</style>\n",
       "<table border=\"1\" class=\"dataframe\">\n",
       "  <thead>\n",
       "    <tr style=\"text-align: right;\">\n",
       "      <th></th>\n",
       "      <th>Missing Values</th>\n",
       "      <th>% of Total Values</th>\n",
       "    </tr>\n",
       "  </thead>\n",
       "  <tbody>\n",
       "    <tr>\n",
       "      <th>COMMONAREA_MEDI</th>\n",
       "      <td>214865</td>\n",
       "      <td>69.9</td>\n",
       "    </tr>\n",
       "    <tr>\n",
       "      <th>COMMONAREA_AVG</th>\n",
       "      <td>214865</td>\n",
       "      <td>69.9</td>\n",
       "    </tr>\n",
       "    <tr>\n",
       "      <th>COMMONAREA_MODE</th>\n",
       "      <td>214865</td>\n",
       "      <td>69.9</td>\n",
       "    </tr>\n",
       "    <tr>\n",
       "      <th>NONLIVINGAPARTMENTS_MEDI</th>\n",
       "      <td>213514</td>\n",
       "      <td>69.4</td>\n",
       "    </tr>\n",
       "    <tr>\n",
       "      <th>NONLIVINGAPARTMENTS_MODE</th>\n",
       "      <td>213514</td>\n",
       "      <td>69.4</td>\n",
       "    </tr>\n",
       "    <tr>\n",
       "      <th>NONLIVINGAPARTMENTS_AVG</th>\n",
       "      <td>213514</td>\n",
       "      <td>69.4</td>\n",
       "    </tr>\n",
       "    <tr>\n",
       "      <th>FONDKAPREMONT_MODE</th>\n",
       "      <td>210295</td>\n",
       "      <td>68.4</td>\n",
       "    </tr>\n",
       "    <tr>\n",
       "      <th>LIVINGAPARTMENTS_MODE</th>\n",
       "      <td>210199</td>\n",
       "      <td>68.4</td>\n",
       "    </tr>\n",
       "    <tr>\n",
       "      <th>LIVINGAPARTMENTS_MEDI</th>\n",
       "      <td>210199</td>\n",
       "      <td>68.4</td>\n",
       "    </tr>\n",
       "    <tr>\n",
       "      <th>LIVINGAPARTMENTS_AVG</th>\n",
       "      <td>210199</td>\n",
       "      <td>68.4</td>\n",
       "    </tr>\n",
       "    <tr>\n",
       "      <th>FLOORSMIN_MODE</th>\n",
       "      <td>208642</td>\n",
       "      <td>67.8</td>\n",
       "    </tr>\n",
       "    <tr>\n",
       "      <th>FLOORSMIN_MEDI</th>\n",
       "      <td>208642</td>\n",
       "      <td>67.8</td>\n",
       "    </tr>\n",
       "    <tr>\n",
       "      <th>FLOORSMIN_AVG</th>\n",
       "      <td>208642</td>\n",
       "      <td>67.8</td>\n",
       "    </tr>\n",
       "    <tr>\n",
       "      <th>YEARS_BUILD_MODE</th>\n",
       "      <td>204488</td>\n",
       "      <td>66.5</td>\n",
       "    </tr>\n",
       "    <tr>\n",
       "      <th>YEARS_BUILD_MEDI</th>\n",
       "      <td>204488</td>\n",
       "      <td>66.5</td>\n",
       "    </tr>\n",
       "    <tr>\n",
       "      <th>YEARS_BUILD_AVG</th>\n",
       "      <td>204488</td>\n",
       "      <td>66.5</td>\n",
       "    </tr>\n",
       "    <tr>\n",
       "      <th>OWN_CAR_AGE</th>\n",
       "      <td>202929</td>\n",
       "      <td>66.0</td>\n",
       "    </tr>\n",
       "    <tr>\n",
       "      <th>LANDAREA_AVG</th>\n",
       "      <td>182590</td>\n",
       "      <td>59.4</td>\n",
       "    </tr>\n",
       "    <tr>\n",
       "      <th>LANDAREA_MEDI</th>\n",
       "      <td>182590</td>\n",
       "      <td>59.4</td>\n",
       "    </tr>\n",
       "    <tr>\n",
       "      <th>LANDAREA_MODE</th>\n",
       "      <td>182590</td>\n",
       "      <td>59.4</td>\n",
       "    </tr>\n",
       "  </tbody>\n",
       "</table>\n",
       "</div>"
      ],
      "text/plain": [
       "                          Missing Values  % of Total Values\n",
       "COMMONAREA_MEDI                   214865               69.9\n",
       "COMMONAREA_AVG                    214865               69.9\n",
       "COMMONAREA_MODE                   214865               69.9\n",
       "NONLIVINGAPARTMENTS_MEDI          213514               69.4\n",
       "NONLIVINGAPARTMENTS_MODE          213514               69.4\n",
       "NONLIVINGAPARTMENTS_AVG           213514               69.4\n",
       "FONDKAPREMONT_MODE                210295               68.4\n",
       "LIVINGAPARTMENTS_MODE             210199               68.4\n",
       "LIVINGAPARTMENTS_MEDI             210199               68.4\n",
       "LIVINGAPARTMENTS_AVG              210199               68.4\n",
       "FLOORSMIN_MODE                    208642               67.8\n",
       "FLOORSMIN_MEDI                    208642               67.8\n",
       "FLOORSMIN_AVG                     208642               67.8\n",
       "YEARS_BUILD_MODE                  204488               66.5\n",
       "YEARS_BUILD_MEDI                  204488               66.5\n",
       "YEARS_BUILD_AVG                   204488               66.5\n",
       "OWN_CAR_AGE                       202929               66.0\n",
       "LANDAREA_AVG                      182590               59.4\n",
       "LANDAREA_MEDI                     182590               59.4\n",
       "LANDAREA_MODE                     182590               59.4"
      ]
     },
     "execution_count": 438,
     "metadata": {},
     "output_type": "execute_result"
    }
   ],
   "source": [
    "missing_values_table(train).head(20)"
   ]
  },
  {
   "cell_type": "code",
   "execution_count": 439,
   "metadata": {},
   "outputs": [
    {
     "name": "stdout",
     "output_type": "stream",
     "text": [
      "Your selected dataframe has 121 columns.\n",
      "There are 64 columns that have missing values.\n"
     ]
    },
    {
     "data": {
      "text/html": [
       "<div>\n",
       "<style scoped>\n",
       "    .dataframe tbody tr th:only-of-type {\n",
       "        vertical-align: middle;\n",
       "    }\n",
       "\n",
       "    .dataframe tbody tr th {\n",
       "        vertical-align: top;\n",
       "    }\n",
       "\n",
       "    .dataframe thead th {\n",
       "        text-align: right;\n",
       "    }\n",
       "</style>\n",
       "<table border=\"1\" class=\"dataframe\">\n",
       "  <thead>\n",
       "    <tr style=\"text-align: right;\">\n",
       "      <th></th>\n",
       "      <th>Missing Values</th>\n",
       "      <th>% of Total Values</th>\n",
       "    </tr>\n",
       "  </thead>\n",
       "  <tbody>\n",
       "    <tr>\n",
       "      <th>COMMONAREA_MODE</th>\n",
       "      <td>33495</td>\n",
       "      <td>68.7</td>\n",
       "    </tr>\n",
       "    <tr>\n",
       "      <th>COMMONAREA_MEDI</th>\n",
       "      <td>33495</td>\n",
       "      <td>68.7</td>\n",
       "    </tr>\n",
       "    <tr>\n",
       "      <th>COMMONAREA_AVG</th>\n",
       "      <td>33495</td>\n",
       "      <td>68.7</td>\n",
       "    </tr>\n",
       "    <tr>\n",
       "      <th>NONLIVINGAPARTMENTS_MEDI</th>\n",
       "      <td>33347</td>\n",
       "      <td>68.4</td>\n",
       "    </tr>\n",
       "    <tr>\n",
       "      <th>NONLIVINGAPARTMENTS_AVG</th>\n",
       "      <td>33347</td>\n",
       "      <td>68.4</td>\n",
       "    </tr>\n",
       "    <tr>\n",
       "      <th>NONLIVINGAPARTMENTS_MODE</th>\n",
       "      <td>33347</td>\n",
       "      <td>68.4</td>\n",
       "    </tr>\n",
       "    <tr>\n",
       "      <th>FONDKAPREMONT_MODE</th>\n",
       "      <td>32797</td>\n",
       "      <td>67.3</td>\n",
       "    </tr>\n",
       "    <tr>\n",
       "      <th>LIVINGAPARTMENTS_MODE</th>\n",
       "      <td>32780</td>\n",
       "      <td>67.2</td>\n",
       "    </tr>\n",
       "    <tr>\n",
       "      <th>LIVINGAPARTMENTS_MEDI</th>\n",
       "      <td>32780</td>\n",
       "      <td>67.2</td>\n",
       "    </tr>\n",
       "    <tr>\n",
       "      <th>LIVINGAPARTMENTS_AVG</th>\n",
       "      <td>32780</td>\n",
       "      <td>67.2</td>\n",
       "    </tr>\n",
       "    <tr>\n",
       "      <th>FLOORSMIN_MEDI</th>\n",
       "      <td>32466</td>\n",
       "      <td>66.6</td>\n",
       "    </tr>\n",
       "    <tr>\n",
       "      <th>FLOORSMIN_MODE</th>\n",
       "      <td>32466</td>\n",
       "      <td>66.6</td>\n",
       "    </tr>\n",
       "    <tr>\n",
       "      <th>FLOORSMIN_AVG</th>\n",
       "      <td>32466</td>\n",
       "      <td>66.6</td>\n",
       "    </tr>\n",
       "    <tr>\n",
       "      <th>OWN_CAR_AGE</th>\n",
       "      <td>32312</td>\n",
       "      <td>66.3</td>\n",
       "    </tr>\n",
       "    <tr>\n",
       "      <th>YEARS_BUILD_AVG</th>\n",
       "      <td>31818</td>\n",
       "      <td>65.3</td>\n",
       "    </tr>\n",
       "    <tr>\n",
       "      <th>YEARS_BUILD_MEDI</th>\n",
       "      <td>31818</td>\n",
       "      <td>65.3</td>\n",
       "    </tr>\n",
       "    <tr>\n",
       "      <th>YEARS_BUILD_MODE</th>\n",
       "      <td>31818</td>\n",
       "      <td>65.3</td>\n",
       "    </tr>\n",
       "    <tr>\n",
       "      <th>LANDAREA_MODE</th>\n",
       "      <td>28254</td>\n",
       "      <td>58.0</td>\n",
       "    </tr>\n",
       "    <tr>\n",
       "      <th>LANDAREA_AVG</th>\n",
       "      <td>28254</td>\n",
       "      <td>58.0</td>\n",
       "    </tr>\n",
       "    <tr>\n",
       "      <th>LANDAREA_MEDI</th>\n",
       "      <td>28254</td>\n",
       "      <td>58.0</td>\n",
       "    </tr>\n",
       "  </tbody>\n",
       "</table>\n",
       "</div>"
      ],
      "text/plain": [
       "                          Missing Values  % of Total Values\n",
       "COMMONAREA_MODE                    33495               68.7\n",
       "COMMONAREA_MEDI                    33495               68.7\n",
       "COMMONAREA_AVG                     33495               68.7\n",
       "NONLIVINGAPARTMENTS_MEDI           33347               68.4\n",
       "NONLIVINGAPARTMENTS_AVG            33347               68.4\n",
       "NONLIVINGAPARTMENTS_MODE           33347               68.4\n",
       "FONDKAPREMONT_MODE                 32797               67.3\n",
       "LIVINGAPARTMENTS_MODE              32780               67.2\n",
       "LIVINGAPARTMENTS_MEDI              32780               67.2\n",
       "LIVINGAPARTMENTS_AVG               32780               67.2\n",
       "FLOORSMIN_MEDI                     32466               66.6\n",
       "FLOORSMIN_MODE                     32466               66.6\n",
       "FLOORSMIN_AVG                      32466               66.6\n",
       "OWN_CAR_AGE                        32312               66.3\n",
       "YEARS_BUILD_AVG                    31818               65.3\n",
       "YEARS_BUILD_MEDI                   31818               65.3\n",
       "YEARS_BUILD_MODE                   31818               65.3\n",
       "LANDAREA_MODE                      28254               58.0\n",
       "LANDAREA_AVG                       28254               58.0\n",
       "LANDAREA_MEDI                      28254               58.0"
      ]
     },
     "execution_count": 439,
     "metadata": {},
     "output_type": "execute_result"
    }
   ],
   "source": [
    "missing_values_table(test).head(20)"
   ]
  },
  {
   "cell_type": "code",
   "execution_count": 440,
   "metadata": {},
   "outputs": [
    {
     "data": {
      "text/plain": [
       "0"
      ]
     },
     "execution_count": 440,
     "metadata": {},
     "output_type": "execute_result"
    }
   ],
   "source": [
    "# Check if the target has any nan value\n",
    "train['TARGET'].isna().sum()"
   ]
  },
  {
   "cell_type": "code",
   "execution_count": 441,
   "metadata": {},
   "outputs": [
    {
     "data": {
      "text/plain": [
       "<AxesSubplot:ylabel='Frequency'>"
      ]
     },
     "execution_count": 441,
     "metadata": {},
     "output_type": "execute_result"
    },
    {
     "data": {
      "image/png": "[encoded data removed]",
      "text/plain": [
       "<Figure size 640x480 with 1 Axes>"
      ]
     },
     "metadata": {},
     "output_type": "display_data"
    }
   ],
   "source": [
    "# 1 and 0 distribution\n",
    "train['TARGET'].astype(int).plot.hist()"
   ]
  },
  {
   "cell_type": "code",
   "execution_count": 442,
   "metadata": {},
   "outputs": [
    {
     "data": {
      "text/plain": [
       "{'TARGET'}"
      ]
     },
     "execution_count": 442,
     "metadata": {},
     "output_type": "execute_result"
    }
   ],
   "source": [
    "set(train.columns).difference(test.columns)"
   ]
  },
  {
   "cell_type": "code",
   "execution_count": 443,
   "metadata": {},
   "outputs": [
    {
     "data": {
      "text/plain": [
       "set()"
      ]
     },
     "execution_count": 443,
     "metadata": {},
     "output_type": "execute_result"
    }
   ],
   "source": [
    "set(test.columns).difference(train.columns)"
   ]
  },
  {
   "cell_type": "code",
   "execution_count": 444,
   "metadata": {},
   "outputs": [
    {
     "data": {
      "text/plain": [
       "float64    65\n",
       "int64      41\n",
       "object     16\n",
       "dtype: int64"
      ]
     },
     "execution_count": 444,
     "metadata": {},
     "output_type": "execute_result"
    }
   ],
   "source": [
    "train.dtypes.value_counts()"
   ]
  },
  {
   "cell_type": "code",
   "execution_count": 445,
   "metadata": {},
   "outputs": [
    {
     "data": {
      "text/plain": [
       "float64    65\n",
       "int64      40\n",
       "object     16\n",
       "dtype: int64"
      ]
     },
     "execution_count": 445,
     "metadata": {},
     "output_type": "execute_result"
    }
   ],
   "source": [
    "test.dtypes.value_counts()"
   ]
  },
  {
   "cell_type": "code",
   "execution_count": 446,
   "metadata": {},
   "outputs": [
    {
     "data": {
      "text/plain": [
       "NAME_CONTRACT_TYPE             2\n",
       "CODE_GENDER                    3\n",
       "FLAG_OWN_CAR                   2\n",
       "FLAG_OWN_REALTY                2\n",
       "NAME_TYPE_SUITE                7\n",
       "NAME_INCOME_TYPE               8\n",
       "NAME_EDUCATION_TYPE            5\n",
       "NAME_FAMILY_STATUS             6\n",
       "NAME_HOUSING_TYPE              6\n",
       "OCCUPATION_TYPE               18\n",
       "WEEKDAY_APPR_PROCESS_START     7\n",
       "ORGANIZATION_TYPE             58\n",
       "FONDKAPREMONT_MODE             4\n",
       "HOUSETYPE_MODE                 3\n",
       "WALLSMATERIAL_MODE             7\n",
       "EMERGENCYSTATE_MODE            2\n",
       "dtype: int64"
      ]
     },
     "execution_count": 446,
     "metadata": {},
     "output_type": "execute_result"
    }
   ],
   "source": [
    "# Number of unique classes in each object column\n",
    "train.select_dtypes('object').apply(pd.Series.nunique, axis = 0)"
   ]
  },
  {
   "cell_type": "code",
   "execution_count": 447,
   "metadata": {},
   "outputs": [
    {
     "data": {
      "text/plain": [
       "NAME_CONTRACT_TYPE             2\n",
       "CODE_GENDER                    2\n",
       "FLAG_OWN_CAR                   2\n",
       "FLAG_OWN_REALTY                2\n",
       "NAME_TYPE_SUITE                7\n",
       "NAME_INCOME_TYPE               7\n",
       "NAME_EDUCATION_TYPE            5\n",
       "NAME_FAMILY_STATUS             5\n",
       "NAME_HOUSING_TYPE              6\n",
       "OCCUPATION_TYPE               18\n",
       "WEEKDAY_APPR_PROCESS_START     7\n",
       "ORGANIZATION_TYPE             58\n",
       "FONDKAPREMONT_MODE             4\n",
       "HOUSETYPE_MODE                 3\n",
       "WALLSMATERIAL_MODE             7\n",
       "EMERGENCYSTATE_MODE            2\n",
       "dtype: int64"
      ]
     },
     "execution_count": 447,
     "metadata": {},
     "output_type": "execute_result"
    }
   ],
   "source": [
    "# Number of unique classes in each object column\n",
    "test.select_dtypes('object').apply(pd.Series.nunique, axis = 0)"
   ]
  },
  {
   "cell_type": "code",
   "execution_count": 448,
   "metadata": {},
   "outputs": [
    {
     "name": "stdout",
     "output_type": "stream",
     "text": [
      "3 columns were label encoded.\n"
     ]
    }
   ],
   "source": [
    "# Create a label encoder object\n",
    "le = LabelEncoder()\n",
    "le_count = 0\n",
    "\n",
    "# Iterate through the columns\n",
    "for col in train:\n",
    "    if train[col].dtype == 'object':\n",
    "        # If 2 or fewer unique categories\n",
    "        if len(list(train[col].unique())) <= 2:\n",
    "            # Train on the training data\n",
    "            le.fit(train[col])\n",
    "            # Transform both training and testing data\n",
    "            train[col] = le.transform(train[col])\n",
    "            test[col] = le.transform(test[col])\n",
    "            \n",
    "            # Keep track of how many columns were label encoded\n",
    "            le_count += 1\n",
    "            \n",
    "print('%d columns were label encoded.' % le_count)"
   ]
  },
  {
   "cell_type": "code",
   "execution_count": 449,
   "metadata": {},
   "outputs": [
    {
     "name": "stdout",
     "output_type": "stream",
     "text": [
      "Training shape:  (307511, 122)\n",
      "Testing shape:  (48744, 121)\n"
     ]
    }
   ],
   "source": [
    "# before one hot encoding\n",
    "print('Training shape: ', train.shape)\n",
    "print('Testing shape: ', test.shape)"
   ]
  },
  {
   "cell_type": "code",
   "execution_count": 450,
   "metadata": {},
   "outputs": [
    {
     "name": "stdout",
     "output_type": "stream",
     "text": [
      "Training shape:  (307511, 243)\n",
      "Testing shape:  (48744, 239)\n"
     ]
    }
   ],
   "source": [
    "# one-hot encoding of categorical variables\n",
    "train = pd.get_dummies(train)\n",
    "test = pd.get_dummies(test)\n",
    "\n",
    "print('Training shape: ', train.shape)\n",
    "print('Testing shape: ', test.shape)"
   ]
  },
  {
   "cell_type": "code",
   "execution_count": 451,
   "metadata": {},
   "outputs": [
    {
     "name": "stdout",
     "output_type": "stream",
     "text": [
      "Training shape:  (307511, 240)\n",
      "Testing shape:  (48744, 239)\n"
     ]
    }
   ],
   "source": [
    "# Alligning data\n",
    "\n",
    "# Get train\n",
    "train_labels = train['TARGET']\n",
    "\n",
    "# Align the training and testing data, keep only columns present in both dataframes\n",
    "train, test = train.align(test, join = 'inner', axis = 1)\n",
    "\n",
    "# Add the target back in\n",
    "train['TARGET'] = train_labels\n",
    "\n",
    "print('Training shape: ', train.shape)\n",
    "print('Testing shape: ', test.shape)"
   ]
  },
  {
   "cell_type": "code",
   "execution_count": 452,
   "metadata": {},
   "outputs": [
    {
     "data": {
      "text/plain": [
       "uint8      131\n",
       "float64     65\n",
       "int64       41\n",
       "int32        3\n",
       "dtype: int64"
      ]
     },
     "execution_count": 452,
     "metadata": {},
     "output_type": "execute_result"
    }
   ],
   "source": [
    "train.dtypes.value_counts()"
   ]
  },
  {
   "cell_type": "code",
   "execution_count": 453,
   "metadata": {},
   "outputs": [
    {
     "data": {
      "text/plain": [
       "uint8      131\n",
       "float64     65\n",
       "int64       40\n",
       "int32        3\n",
       "dtype: int64"
      ]
     },
     "execution_count": 453,
     "metadata": {},
     "output_type": "execute_result"
    }
   ],
   "source": [
    "test.dtypes.value_counts()"
   ]
  },
  {
   "cell_type": "markdown",
   "metadata": {},
   "source": [
    "# Start doing the EDA"
   ]
  },
  {
   "cell_type": "code",
   "execution_count": 454,
   "metadata": {},
   "outputs": [
    {
     "name": "stdout",
     "output_type": "stream",
     "text": [
      "Your selected dataframe has 240 columns.\n",
      "There are 61 columns that have missing values.\n"
     ]
    },
    {
     "data": {
      "text/html": [
       "<div>\n",
       "<style scoped>\n",
       "    .dataframe tbody tr th:only-of-type {\n",
       "        vertical-align: middle;\n",
       "    }\n",
       "\n",
       "    .dataframe tbody tr th {\n",
       "        vertical-align: top;\n",
       "    }\n",
       "\n",
       "    .dataframe thead th {\n",
       "        text-align: right;\n",
       "    }\n",
       "</style>\n",
       "<table border=\"1\" class=\"dataframe\">\n",
       "  <thead>\n",
       "    <tr style=\"text-align: right;\">\n",
       "      <th></th>\n",
       "      <th>Missing Values</th>\n",
       "      <th>% of Total Values</th>\n",
       "    </tr>\n",
       "  </thead>\n",
       "  <tbody>\n",
       "    <tr>\n",
       "      <th>COMMONAREA_MODE</th>\n",
       "      <td>214865</td>\n",
       "      <td>69.9</td>\n",
       "    </tr>\n",
       "    <tr>\n",
       "      <th>COMMONAREA_MEDI</th>\n",
       "      <td>214865</td>\n",
       "      <td>69.9</td>\n",
       "    </tr>\n",
       "    <tr>\n",
       "      <th>COMMONAREA_AVG</th>\n",
       "      <td>214865</td>\n",
       "      <td>69.9</td>\n",
       "    </tr>\n",
       "    <tr>\n",
       "      <th>NONLIVINGAPARTMENTS_MODE</th>\n",
       "      <td>213514</td>\n",
       "      <td>69.4</td>\n",
       "    </tr>\n",
       "    <tr>\n",
       "      <th>NONLIVINGAPARTMENTS_AVG</th>\n",
       "      <td>213514</td>\n",
       "      <td>69.4</td>\n",
       "    </tr>\n",
       "  </tbody>\n",
       "</table>\n",
       "</div>"
      ],
      "text/plain": [
       "                          Missing Values  % of Total Values\n",
       "COMMONAREA_MODE                   214865               69.9\n",
       "COMMONAREA_MEDI                   214865               69.9\n",
       "COMMONAREA_AVG                    214865               69.9\n",
       "NONLIVINGAPARTMENTS_MODE          213514               69.4\n",
       "NONLIVINGAPARTMENTS_AVG           213514               69.4"
      ]
     },
     "execution_count": 454,
     "metadata": {},
     "output_type": "execute_result"
    }
   ],
   "source": [
    "missing_values_table(train).head()"
   ]
  },
  {
   "cell_type": "code",
   "execution_count": 455,
   "metadata": {},
   "outputs": [
    {
     "name": "stdout",
     "output_type": "stream",
     "text": [
      "Your selected dataframe has 239 columns.\n",
      "There are 58 columns that have missing values.\n"
     ]
    },
    {
     "data": {
      "text/html": [
       "<div>\n",
       "<style scoped>\n",
       "    .dataframe tbody tr th:only-of-type {\n",
       "        vertical-align: middle;\n",
       "    }\n",
       "\n",
       "    .dataframe tbody tr th {\n",
       "        vertical-align: top;\n",
       "    }\n",
       "\n",
       "    .dataframe thead th {\n",
       "        text-align: right;\n",
       "    }\n",
       "</style>\n",
       "<table border=\"1\" class=\"dataframe\">\n",
       "  <thead>\n",
       "    <tr style=\"text-align: right;\">\n",
       "      <th></th>\n",
       "      <th>Missing Values</th>\n",
       "      <th>% of Total Values</th>\n",
       "    </tr>\n",
       "  </thead>\n",
       "  <tbody>\n",
       "    <tr>\n",
       "      <th>COMMONAREA_AVG</th>\n",
       "      <td>33495</td>\n",
       "      <td>68.7</td>\n",
       "    </tr>\n",
       "    <tr>\n",
       "      <th>COMMONAREA_MODE</th>\n",
       "      <td>33495</td>\n",
       "      <td>68.7</td>\n",
       "    </tr>\n",
       "    <tr>\n",
       "      <th>COMMONAREA_MEDI</th>\n",
       "      <td>33495</td>\n",
       "      <td>68.7</td>\n",
       "    </tr>\n",
       "    <tr>\n",
       "      <th>NONLIVINGAPARTMENTS_MODE</th>\n",
       "      <td>33347</td>\n",
       "      <td>68.4</td>\n",
       "    </tr>\n",
       "    <tr>\n",
       "      <th>NONLIVINGAPARTMENTS_MEDI</th>\n",
       "      <td>33347</td>\n",
       "      <td>68.4</td>\n",
       "    </tr>\n",
       "  </tbody>\n",
       "</table>\n",
       "</div>"
      ],
      "text/plain": [
       "                          Missing Values  % of Total Values\n",
       "COMMONAREA_AVG                     33495               68.7\n",
       "COMMONAREA_MODE                    33495               68.7\n",
       "COMMONAREA_MEDI                    33495               68.7\n",
       "NONLIVINGAPARTMENTS_MODE           33347               68.4\n",
       "NONLIVINGAPARTMENTS_MEDI           33347               68.4"
      ]
     },
     "execution_count": 455,
     "metadata": {},
     "output_type": "execute_result"
    }
   ],
   "source": [
    "missing_values_table(test).head()"
   ]
  },
  {
   "cell_type": "code",
   "execution_count": 456,
   "metadata": {},
   "outputs": [
    {
     "data": {
      "text/html": [
       "<div>\n",
       "<style scoped>\n",
       "    .dataframe tbody tr th:only-of-type {\n",
       "        vertical-align: middle;\n",
       "    }\n",
       "\n",
       "    .dataframe tbody tr th {\n",
       "        vertical-align: top;\n",
       "    }\n",
       "\n",
       "    .dataframe thead th {\n",
       "        text-align: right;\n",
       "    }\n",
       "</style>\n",
       "<table border=\"1\" class=\"dataframe\">\n",
       "  <thead>\n",
       "    <tr style=\"text-align: right;\">\n",
       "      <th></th>\n",
       "      <th>SK_ID_CURR</th>\n",
       "      <th>NAME_CONTRACT_TYPE</th>\n",
       "      <th>FLAG_OWN_CAR</th>\n",
       "      <th>FLAG_OWN_REALTY</th>\n",
       "      <th>CNT_CHILDREN</th>\n",
       "      <th>AMT_INCOME_TOTAL</th>\n",
       "      <th>AMT_CREDIT</th>\n",
       "      <th>AMT_ANNUITY</th>\n",
       "      <th>AMT_GOODS_PRICE</th>\n",
       "      <th>REGION_POPULATION_RELATIVE</th>\n",
       "      <th>...</th>\n",
       "      <th>WALLSMATERIAL_MODE_Block</th>\n",
       "      <th>WALLSMATERIAL_MODE_Mixed</th>\n",
       "      <th>WALLSMATERIAL_MODE_Monolithic</th>\n",
       "      <th>WALLSMATERIAL_MODE_Others</th>\n",
       "      <th>WALLSMATERIAL_MODE_Panel</th>\n",
       "      <th>WALLSMATERIAL_MODE_Stone, brick</th>\n",
       "      <th>WALLSMATERIAL_MODE_Wooden</th>\n",
       "      <th>EMERGENCYSTATE_MODE_No</th>\n",
       "      <th>EMERGENCYSTATE_MODE_Yes</th>\n",
       "      <th>TARGET</th>\n",
       "    </tr>\n",
       "  </thead>\n",
       "  <tbody>\n",
       "    <tr>\n",
       "      <th>count</th>\n",
       "      <td>307511.000000</td>\n",
       "      <td>307511.000000</td>\n",
       "      <td>307511.000000</td>\n",
       "      <td>307511.000000</td>\n",
       "      <td>307511.000000</td>\n",
       "      <td>3.075110e+05</td>\n",
       "      <td>3.075110e+05</td>\n",
       "      <td>307499.000000</td>\n",
       "      <td>3.072330e+05</td>\n",
       "      <td>307511.000000</td>\n",
       "      <td>...</td>\n",
       "      <td>307511.000000</td>\n",
       "      <td>307511.000000</td>\n",
       "      <td>307511.000000</td>\n",
       "      <td>307511.000000</td>\n",
       "      <td>307511.000000</td>\n",
       "      <td>307511.000000</td>\n",
       "      <td>307511.000000</td>\n",
       "      <td>307511.000000</td>\n",
       "      <td>307511.000000</td>\n",
       "      <td>307511.000000</td>\n",
       "    </tr>\n",
       "    <tr>\n",
       "      <th>mean</th>\n",
       "      <td>278180.518577</td>\n",
       "      <td>0.095213</td>\n",
       "      <td>0.340108</td>\n",
       "      <td>0.693673</td>\n",
       "      <td>0.417052</td>\n",
       "      <td>1.687979e+05</td>\n",
       "      <td>5.990260e+05</td>\n",
       "      <td>27108.573909</td>\n",
       "      <td>5.383962e+05</td>\n",
       "      <td>0.020868</td>\n",
       "      <td>...</td>\n",
       "      <td>0.030090</td>\n",
       "      <td>0.007466</td>\n",
       "      <td>0.005785</td>\n",
       "      <td>0.005284</td>\n",
       "      <td>0.214757</td>\n",
       "      <td>0.210773</td>\n",
       "      <td>0.017437</td>\n",
       "      <td>0.518446</td>\n",
       "      <td>0.007570</td>\n",
       "      <td>0.080729</td>\n",
       "    </tr>\n",
       "    <tr>\n",
       "      <th>std</th>\n",
       "      <td>102790.175348</td>\n",
       "      <td>0.293509</td>\n",
       "      <td>0.473746</td>\n",
       "      <td>0.460968</td>\n",
       "      <td>0.722121</td>\n",
       "      <td>2.371231e+05</td>\n",
       "      <td>4.024908e+05</td>\n",
       "      <td>14493.737315</td>\n",
       "      <td>3.694465e+05</td>\n",
       "      <td>0.013831</td>\n",
       "      <td>...</td>\n",
       "      <td>0.170835</td>\n",
       "      <td>0.086085</td>\n",
       "      <td>0.075840</td>\n",
       "      <td>0.072501</td>\n",
       "      <td>0.410654</td>\n",
       "      <td>0.407858</td>\n",
       "      <td>0.130892</td>\n",
       "      <td>0.499660</td>\n",
       "      <td>0.086679</td>\n",
       "      <td>0.272419</td>\n",
       "    </tr>\n",
       "    <tr>\n",
       "      <th>min</th>\n",
       "      <td>100002.000000</td>\n",
       "      <td>0.000000</td>\n",
       "      <td>0.000000</td>\n",
       "      <td>0.000000</td>\n",
       "      <td>0.000000</td>\n",
       "      <td>2.565000e+04</td>\n",
       "      <td>4.500000e+04</td>\n",
       "      <td>1615.500000</td>\n",
       "      <td>4.050000e+04</td>\n",
       "      <td>0.000290</td>\n",
       "      <td>...</td>\n",
       "      <td>0.000000</td>\n",
       "      <td>0.000000</td>\n",
       "      <td>0.000000</td>\n",
       "      <td>0.000000</td>\n",
       "      <td>0.000000</td>\n",
       "      <td>0.000000</td>\n",
       "      <td>0.000000</td>\n",
       "      <td>0.000000</td>\n",
       "      <td>0.000000</td>\n",
       "      <td>0.000000</td>\n",
       "    </tr>\n",
       "    <tr>\n",
       "      <th>25%</th>\n",
       "      <td>189145.500000</td>\n",
       "      <td>0.000000</td>\n",
       "      <td>0.000000</td>\n",
       "      <td>0.000000</td>\n",
       "      <td>0.000000</td>\n",
       "      <td>1.125000e+05</td>\n",
       "      <td>2.700000e+05</td>\n",
       "      <td>16524.000000</td>\n",
       "      <td>2.385000e+05</td>\n",
       "      <td>0.010006</td>\n",
       "      <td>...</td>\n",
       "      <td>0.000000</td>\n",
       "      <td>0.000000</td>\n",
       "      <td>0.000000</td>\n",
       "      <td>0.000000</td>\n",
       "      <td>0.000000</td>\n",
       "      <td>0.000000</td>\n",
       "      <td>0.000000</td>\n",
       "      <td>0.000000</td>\n",
       "      <td>0.000000</td>\n",
       "      <td>0.000000</td>\n",
       "    </tr>\n",
       "    <tr>\n",
       "      <th>50%</th>\n",
       "      <td>278202.000000</td>\n",
       "      <td>0.000000</td>\n",
       "      <td>0.000000</td>\n",
       "      <td>1.000000</td>\n",
       "      <td>0.000000</td>\n",
       "      <td>1.471500e+05</td>\n",
       "      <td>5.135310e+05</td>\n",
       "      <td>24903.000000</td>\n",
       "      <td>4.500000e+05</td>\n",
       "      <td>0.018850</td>\n",
       "      <td>...</td>\n",
       "      <td>0.000000</td>\n",
       "      <td>0.000000</td>\n",
       "      <td>0.000000</td>\n",
       "      <td>0.000000</td>\n",
       "      <td>0.000000</td>\n",
       "      <td>0.000000</td>\n",
       "      <td>0.000000</td>\n",
       "      <td>1.000000</td>\n",
       "      <td>0.000000</td>\n",
       "      <td>0.000000</td>\n",
       "    </tr>\n",
       "    <tr>\n",
       "      <th>75%</th>\n",
       "      <td>367142.500000</td>\n",
       "      <td>0.000000</td>\n",
       "      <td>1.000000</td>\n",
       "      <td>1.000000</td>\n",
       "      <td>1.000000</td>\n",
       "      <td>2.025000e+05</td>\n",
       "      <td>8.086500e+05</td>\n",
       "      <td>34596.000000</td>\n",
       "      <td>6.795000e+05</td>\n",
       "      <td>0.028663</td>\n",
       "      <td>...</td>\n",
       "      <td>0.000000</td>\n",
       "      <td>0.000000</td>\n",
       "      <td>0.000000</td>\n",
       "      <td>0.000000</td>\n",
       "      <td>0.000000</td>\n",
       "      <td>0.000000</td>\n",
       "      <td>0.000000</td>\n",
       "      <td>1.000000</td>\n",
       "      <td>0.000000</td>\n",
       "      <td>0.000000</td>\n",
       "    </tr>\n",
       "    <tr>\n",
       "      <th>max</th>\n",
       "      <td>456255.000000</td>\n",
       "      <td>1.000000</td>\n",
       "      <td>1.000000</td>\n",
       "      <td>1.000000</td>\n",
       "      <td>19.000000</td>\n",
       "      <td>1.170000e+08</td>\n",
       "      <td>4.050000e+06</td>\n",
       "      <td>258025.500000</td>\n",
       "      <td>4.050000e+06</td>\n",
       "      <td>0.072508</td>\n",
       "      <td>...</td>\n",
       "      <td>1.000000</td>\n",
       "      <td>1.000000</td>\n",
       "      <td>1.000000</td>\n",
       "      <td>1.000000</td>\n",
       "      <td>1.000000</td>\n",
       "      <td>1.000000</td>\n",
       "      <td>1.000000</td>\n",
       "      <td>1.000000</td>\n",
       "      <td>1.000000</td>\n",
       "      <td>1.000000</td>\n",
       "    </tr>\n",
       "  </tbody>\n",
       "</table>\n",
       "<p>8 rows × 240 columns</p>\n",
       "</div>"
      ],
      "text/plain": [
       "          SK_ID_CURR  NAME_CONTRACT_TYPE   FLAG_OWN_CAR  FLAG_OWN_REALTY  \\\n",
       "count  307511.000000       307511.000000  307511.000000    307511.000000   \n",
       "mean   278180.518577            0.095213       0.340108         0.693673   \n",
       "std    102790.175348            0.293509       0.473746         0.460968   \n",
       "min    100002.000000            0.000000       0.000000         0.000000   \n",
       "25%    189145.500000            0.000000       0.000000         0.000000   \n",
       "50%    278202.000000            0.000000       0.000000         1.000000   \n",
       "75%    367142.500000            0.000000       1.000000         1.000000   \n",
       "max    456255.000000            1.000000       1.000000         1.000000   \n",
       "\n",
       "        CNT_CHILDREN  AMT_INCOME_TOTAL    AMT_CREDIT    AMT_ANNUITY  \\\n",
       "count  307511.000000      3.075110e+05  3.075110e+05  307499.000000   \n",
       "mean        0.417052      1.687979e+05  5.990260e+05   27108.573909   \n",
       "std         0.722121      2.371231e+05  4.024908e+05   14493.737315   \n",
       "min         0.000000      2.565000e+04  4.500000e+04    1615.500000   \n",
       "25%         0.000000      1.125000e+05  2.700000e+05   16524.000000   \n",
       "50%         0.000000      1.471500e+05  5.135310e+05   24903.000000   \n",
       "75%         1.000000      2.025000e+05  8.086500e+05   34596.000000   \n",
       "max        19.000000      1.170000e+08  4.050000e+06  258025.500000   \n",
       "\n",
       "       AMT_GOODS_PRICE  REGION_POPULATION_RELATIVE  ...  \\\n",
       "count     3.072330e+05               307511.000000  ...   \n",
       "mean      5.383962e+05                    0.020868  ...   \n",
       "std       3.694465e+05                    0.013831  ...   \n",
       "min       4.050000e+04                    0.000290  ...   \n",
       "25%       2.385000e+05                    0.010006  ...   \n",
       "50%       4.500000e+05                    0.018850  ...   \n",
       "75%       6.795000e+05                    0.028663  ...   \n",
       "max       4.050000e+06                    0.072508  ...   \n",
       "\n",
       "       WALLSMATERIAL_MODE_Block  WALLSMATERIAL_MODE_Mixed  \\\n",
       "count             307511.000000             307511.000000   \n",
       "mean                   0.030090                  0.007466   \n",
       "std                    0.170835                  0.086085   \n",
       "min                    0.000000                  0.000000   \n",
       "25%                    0.000000                  0.000000   \n",
       "50%                    0.000000                  0.000000   \n",
       "75%                    0.000000                  0.000000   \n",
       "max                    1.000000                  1.000000   \n",
       "\n",
       "       WALLSMATERIAL_MODE_Monolithic  WALLSMATERIAL_MODE_Others  \\\n",
       "count                  307511.000000              307511.000000   \n",
       "mean                        0.005785                   0.005284   \n",
       "std                         0.075840                   0.072501   \n",
       "min                         0.000000                   0.000000   \n",
       "25%                         0.000000                   0.000000   \n",
       "50%                         0.000000                   0.000000   \n",
       "75%                         0.000000                   0.000000   \n",
       "max                         1.000000                   1.000000   \n",
       "\n",
       "       WALLSMATERIAL_MODE_Panel  WALLSMATERIAL_MODE_Stone, brick  \\\n",
       "count             307511.000000                    307511.000000   \n",
       "mean                   0.214757                         0.210773   \n",
       "std                    0.410654                         0.407858   \n",
       "min                    0.000000                         0.000000   \n",
       "25%                    0.000000                         0.000000   \n",
       "50%                    0.000000                         0.000000   \n",
       "75%                    0.000000                         0.000000   \n",
       "max                    1.000000                         1.000000   \n",
       "\n",
       "       WALLSMATERIAL_MODE_Wooden  EMERGENCYSTATE_MODE_No  \\\n",
       "count              307511.000000           307511.000000   \n",
       "mean                    0.017437                0.518446   \n",
       "std                     0.130892                0.499660   \n",
       "min                     0.000000                0.000000   \n",
       "25%                     0.000000                0.000000   \n",
       "50%                     0.000000                1.000000   \n",
       "75%                     0.000000                1.000000   \n",
       "max                     1.000000                1.000000   \n",
       "\n",
       "       EMERGENCYSTATE_MODE_Yes         TARGET  \n",
       "count            307511.000000  307511.000000  \n",
       "mean                  0.007570       0.080729  \n",
       "std                   0.086679       0.272419  \n",
       "min                   0.000000       0.000000  \n",
       "25%                   0.000000       0.000000  \n",
       "50%                   0.000000       0.000000  \n",
       "75%                   0.000000       0.000000  \n",
       "max                   1.000000       1.000000  \n",
       "\n",
       "[8 rows x 240 columns]"
      ]
     },
     "execution_count": 456,
     "metadata": {},
     "output_type": "execute_result"
    }
   ],
   "source": [
    "train.describe()"
   ]
  },
  {
   "cell_type": "code",
   "execution_count": 457,
   "metadata": {},
   "outputs": [
    {
     "data": {
      "text/html": [
       "<div>\n",
       "<style scoped>\n",
       "    .dataframe tbody tr th:only-of-type {\n",
       "        vertical-align: middle;\n",
       "    }\n",
       "\n",
       "    .dataframe tbody tr th {\n",
       "        vertical-align: top;\n",
       "    }\n",
       "\n",
       "    .dataframe thead th {\n",
       "        text-align: right;\n",
       "    }\n",
       "</style>\n",
       "<table border=\"1\" class=\"dataframe\">\n",
       "  <thead>\n",
       "    <tr style=\"text-align: right;\">\n",
       "      <th></th>\n",
       "      <th>SK_ID_CURR</th>\n",
       "      <th>NAME_CONTRACT_TYPE</th>\n",
       "      <th>FLAG_OWN_CAR</th>\n",
       "      <th>FLAG_OWN_REALTY</th>\n",
       "      <th>CNT_CHILDREN</th>\n",
       "      <th>AMT_INCOME_TOTAL</th>\n",
       "      <th>AMT_CREDIT</th>\n",
       "      <th>AMT_ANNUITY</th>\n",
       "      <th>AMT_GOODS_PRICE</th>\n",
       "      <th>REGION_POPULATION_RELATIVE</th>\n",
       "      <th>...</th>\n",
       "      <th>HOUSETYPE_MODE_terraced house</th>\n",
       "      <th>WALLSMATERIAL_MODE_Block</th>\n",
       "      <th>WALLSMATERIAL_MODE_Mixed</th>\n",
       "      <th>WALLSMATERIAL_MODE_Monolithic</th>\n",
       "      <th>WALLSMATERIAL_MODE_Others</th>\n",
       "      <th>WALLSMATERIAL_MODE_Panel</th>\n",
       "      <th>WALLSMATERIAL_MODE_Stone, brick</th>\n",
       "      <th>WALLSMATERIAL_MODE_Wooden</th>\n",
       "      <th>EMERGENCYSTATE_MODE_No</th>\n",
       "      <th>EMERGENCYSTATE_MODE_Yes</th>\n",
       "    </tr>\n",
       "  </thead>\n",
       "  <tbody>\n",
       "    <tr>\n",
       "      <th>count</th>\n",
       "      <td>48744.000000</td>\n",
       "      <td>48744.000000</td>\n",
       "      <td>48744.000000</td>\n",
       "      <td>48744.000000</td>\n",
       "      <td>48744.000000</td>\n",
       "      <td>4.874400e+04</td>\n",
       "      <td>4.874400e+04</td>\n",
       "      <td>48720.000000</td>\n",
       "      <td>4.874400e+04</td>\n",
       "      <td>48744.000000</td>\n",
       "      <td>...</td>\n",
       "      <td>48744.000000</td>\n",
       "      <td>48744.000000</td>\n",
       "      <td>48744.000000</td>\n",
       "      <td>48744.000000</td>\n",
       "      <td>48744.000000</td>\n",
       "      <td>48744.000000</td>\n",
       "      <td>48744.000000</td>\n",
       "      <td>48744.000000</td>\n",
       "      <td>48744.000000</td>\n",
       "      <td>48744.000000</td>\n",
       "    </tr>\n",
       "    <tr>\n",
       "      <th>mean</th>\n",
       "      <td>277796.676350</td>\n",
       "      <td>0.009006</td>\n",
       "      <td>0.337129</td>\n",
       "      <td>0.690505</td>\n",
       "      <td>0.397054</td>\n",
       "      <td>1.784318e+05</td>\n",
       "      <td>5.167404e+05</td>\n",
       "      <td>29426.240209</td>\n",
       "      <td>4.626188e+05</td>\n",
       "      <td>0.021226</td>\n",
       "      <td>...</td>\n",
       "      <td>0.004185</td>\n",
       "      <td>0.029296</td>\n",
       "      <td>0.007242</td>\n",
       "      <td>0.005929</td>\n",
       "      <td>0.005826</td>\n",
       "      <td>0.231187</td>\n",
       "      <td>0.214057</td>\n",
       "      <td>0.016289</td>\n",
       "      <td>0.537071</td>\n",
       "      <td>0.007303</td>\n",
       "    </tr>\n",
       "    <tr>\n",
       "      <th>std</th>\n",
       "      <td>103169.547296</td>\n",
       "      <td>0.094474</td>\n",
       "      <td>0.472734</td>\n",
       "      <td>0.462290</td>\n",
       "      <td>0.709047</td>\n",
       "      <td>1.015226e+05</td>\n",
       "      <td>3.653970e+05</td>\n",
       "      <td>16016.368315</td>\n",
       "      <td>3.367102e+05</td>\n",
       "      <td>0.014428</td>\n",
       "      <td>...</td>\n",
       "      <td>0.064558</td>\n",
       "      <td>0.168636</td>\n",
       "      <td>0.084792</td>\n",
       "      <td>0.076772</td>\n",
       "      <td>0.076109</td>\n",
       "      <td>0.421596</td>\n",
       "      <td>0.410171</td>\n",
       "      <td>0.126587</td>\n",
       "      <td>0.498629</td>\n",
       "      <td>0.085149</td>\n",
       "    </tr>\n",
       "    <tr>\n",
       "      <th>min</th>\n",
       "      <td>100001.000000</td>\n",
       "      <td>0.000000</td>\n",
       "      <td>0.000000</td>\n",
       "      <td>0.000000</td>\n",
       "      <td>0.000000</td>\n",
       "      <td>2.694150e+04</td>\n",
       "      <td>4.500000e+04</td>\n",
       "      <td>2295.000000</td>\n",
       "      <td>4.500000e+04</td>\n",
       "      <td>0.000253</td>\n",
       "      <td>...</td>\n",
       "      <td>0.000000</td>\n",
       "      <td>0.000000</td>\n",
       "      <td>0.000000</td>\n",
       "      <td>0.000000</td>\n",
       "      <td>0.000000</td>\n",
       "      <td>0.000000</td>\n",
       "      <td>0.000000</td>\n",
       "      <td>0.000000</td>\n",
       "      <td>0.000000</td>\n",
       "      <td>0.000000</td>\n",
       "    </tr>\n",
       "    <tr>\n",
       "      <th>25%</th>\n",
       "      <td>188557.750000</td>\n",
       "      <td>0.000000</td>\n",
       "      <td>0.000000</td>\n",
       "      <td>0.000000</td>\n",
       "      <td>0.000000</td>\n",
       "      <td>1.125000e+05</td>\n",
       "      <td>2.606400e+05</td>\n",
       "      <td>17973.000000</td>\n",
       "      <td>2.250000e+05</td>\n",
       "      <td>0.010006</td>\n",
       "      <td>...</td>\n",
       "      <td>0.000000</td>\n",
       "      <td>0.000000</td>\n",
       "      <td>0.000000</td>\n",
       "      <td>0.000000</td>\n",
       "      <td>0.000000</td>\n",
       "      <td>0.000000</td>\n",
       "      <td>0.000000</td>\n",
       "      <td>0.000000</td>\n",
       "      <td>0.000000</td>\n",
       "      <td>0.000000</td>\n",
       "    </tr>\n",
       "    <tr>\n",
       "      <th>50%</th>\n",
       "      <td>277549.000000</td>\n",
       "      <td>0.000000</td>\n",
       "      <td>0.000000</td>\n",
       "      <td>1.000000</td>\n",
       "      <td>0.000000</td>\n",
       "      <td>1.575000e+05</td>\n",
       "      <td>4.500000e+05</td>\n",
       "      <td>26199.000000</td>\n",
       "      <td>3.960000e+05</td>\n",
       "      <td>0.018850</td>\n",
       "      <td>...</td>\n",
       "      <td>0.000000</td>\n",
       "      <td>0.000000</td>\n",
       "      <td>0.000000</td>\n",
       "      <td>0.000000</td>\n",
       "      <td>0.000000</td>\n",
       "      <td>0.000000</td>\n",
       "      <td>0.000000</td>\n",
       "      <td>0.000000</td>\n",
       "      <td>1.000000</td>\n",
       "      <td>0.000000</td>\n",
       "    </tr>\n",
       "    <tr>\n",
       "      <th>75%</th>\n",
       "      <td>367555.500000</td>\n",
       "      <td>0.000000</td>\n",
       "      <td>1.000000</td>\n",
       "      <td>1.000000</td>\n",
       "      <td>1.000000</td>\n",
       "      <td>2.250000e+05</td>\n",
       "      <td>6.750000e+05</td>\n",
       "      <td>37390.500000</td>\n",
       "      <td>6.300000e+05</td>\n",
       "      <td>0.028663</td>\n",
       "      <td>...</td>\n",
       "      <td>0.000000</td>\n",
       "      <td>0.000000</td>\n",
       "      <td>0.000000</td>\n",
       "      <td>0.000000</td>\n",
       "      <td>0.000000</td>\n",
       "      <td>0.000000</td>\n",
       "      <td>0.000000</td>\n",
       "      <td>0.000000</td>\n",
       "      <td>1.000000</td>\n",
       "      <td>0.000000</td>\n",
       "    </tr>\n",
       "    <tr>\n",
       "      <th>max</th>\n",
       "      <td>456250.000000</td>\n",
       "      <td>1.000000</td>\n",
       "      <td>1.000000</td>\n",
       "      <td>1.000000</td>\n",
       "      <td>20.000000</td>\n",
       "      <td>4.410000e+06</td>\n",
       "      <td>2.245500e+06</td>\n",
       "      <td>180576.000000</td>\n",
       "      <td>2.245500e+06</td>\n",
       "      <td>0.072508</td>\n",
       "      <td>...</td>\n",
       "      <td>1.000000</td>\n",
       "      <td>1.000000</td>\n",
       "      <td>1.000000</td>\n",
       "      <td>1.000000</td>\n",
       "      <td>1.000000</td>\n",
       "      <td>1.000000</td>\n",
       "      <td>1.000000</td>\n",
       "      <td>1.000000</td>\n",
       "      <td>1.000000</td>\n",
       "      <td>1.000000</td>\n",
       "    </tr>\n",
       "  </tbody>\n",
       "</table>\n",
       "<p>8 rows × 239 columns</p>\n",
       "</div>"
      ],
      "text/plain": [
       "          SK_ID_CURR  NAME_CONTRACT_TYPE  FLAG_OWN_CAR  FLAG_OWN_REALTY  \\\n",
       "count   48744.000000        48744.000000  48744.000000     48744.000000   \n",
       "mean   277796.676350            0.009006      0.337129         0.690505   \n",
       "std    103169.547296            0.094474      0.472734         0.462290   \n",
       "min    100001.000000            0.000000      0.000000         0.000000   \n",
       "25%    188557.750000            0.000000      0.000000         0.000000   \n",
       "50%    277549.000000            0.000000      0.000000         1.000000   \n",
       "75%    367555.500000            0.000000      1.000000         1.000000   \n",
       "max    456250.000000            1.000000      1.000000         1.000000   \n",
       "\n",
       "       CNT_CHILDREN  AMT_INCOME_TOTAL    AMT_CREDIT    AMT_ANNUITY  \\\n",
       "count  48744.000000      4.874400e+04  4.874400e+04   48720.000000   \n",
       "mean       0.397054      1.784318e+05  5.167404e+05   29426.240209   \n",
       "std        0.709047      1.015226e+05  3.653970e+05   16016.368315   \n",
       "min        0.000000      2.694150e+04  4.500000e+04    2295.000000   \n",
       "25%        0.000000      1.125000e+05  2.606400e+05   17973.000000   \n",
       "50%        0.000000      1.575000e+05  4.500000e+05   26199.000000   \n",
       "75%        1.000000      2.250000e+05  6.750000e+05   37390.500000   \n",
       "max       20.000000      4.410000e+06  2.245500e+06  180576.000000   \n",
       "\n",
       "       AMT_GOODS_PRICE  REGION_POPULATION_RELATIVE  ...  \\\n",
       "count     4.874400e+04                48744.000000  ...   \n",
       "mean      4.626188e+05                    0.021226  ...   \n",
       "std       3.367102e+05                    0.014428  ...   \n",
       "min       4.500000e+04                    0.000253  ...   \n",
       "25%       2.250000e+05                    0.010006  ...   \n",
       "50%       3.960000e+05                    0.018850  ...   \n",
       "75%       6.300000e+05                    0.028663  ...   \n",
       "max       2.245500e+06                    0.072508  ...   \n",
       "\n",
       "       HOUSETYPE_MODE_terraced house  WALLSMATERIAL_MODE_Block  \\\n",
       "count                   48744.000000              48744.000000   \n",
       "mean                        0.004185                  0.029296   \n",
       "std                         0.064558                  0.168636   \n",
       "min                         0.000000                  0.000000   \n",
       "25%                         0.000000                  0.000000   \n",
       "50%                         0.000000                  0.000000   \n",
       "75%                         0.000000                  0.000000   \n",
       "max                         1.000000                  1.000000   \n",
       "\n",
       "       WALLSMATERIAL_MODE_Mixed  WALLSMATERIAL_MODE_Monolithic  \\\n",
       "count              48744.000000                   48744.000000   \n",
       "mean                   0.007242                       0.005929   \n",
       "std                    0.084792                       0.076772   \n",
       "min                    0.000000                       0.000000   \n",
       "25%                    0.000000                       0.000000   \n",
       "50%                    0.000000                       0.000000   \n",
       "75%                    0.000000                       0.000000   \n",
       "max                    1.000000                       1.000000   \n",
       "\n",
       "       WALLSMATERIAL_MODE_Others  WALLSMATERIAL_MODE_Panel  \\\n",
       "count               48744.000000              48744.000000   \n",
       "mean                    0.005826                  0.231187   \n",
       "std                     0.076109                  0.421596   \n",
       "min                     0.000000                  0.000000   \n",
       "25%                     0.000000                  0.000000   \n",
       "50%                     0.000000                  0.000000   \n",
       "75%                     0.000000                  0.000000   \n",
       "max                     1.000000                  1.000000   \n",
       "\n",
       "       WALLSMATERIAL_MODE_Stone, brick  WALLSMATERIAL_MODE_Wooden  \\\n",
       "count                     48744.000000               48744.000000   \n",
       "mean                          0.214057                   0.016289   \n",
       "std                           0.410171                   0.126587   \n",
       "min                           0.000000                   0.000000   \n",
       "25%                           0.000000                   0.000000   \n",
       "50%                           0.000000                   0.000000   \n",
       "75%                           0.000000                   0.000000   \n",
       "max                           1.000000                   1.000000   \n",
       "\n",
       "       EMERGENCYSTATE_MODE_No  EMERGENCYSTATE_MODE_Yes  \n",
       "count            48744.000000             48744.000000  \n",
       "mean                 0.537071                 0.007303  \n",
       "std                  0.498629                 0.085149  \n",
       "min                  0.000000                 0.000000  \n",
       "25%                  0.000000                 0.000000  \n",
       "50%                  1.000000                 0.000000  \n",
       "75%                  1.000000                 0.000000  \n",
       "max                  1.000000                 1.000000  \n",
       "\n",
       "[8 rows x 239 columns]"
      ]
     },
     "execution_count": 457,
     "metadata": {},
     "output_type": "execute_result"
    }
   ],
   "source": [
    "test.describe()"
   ]
  },
  {
   "cell_type": "code",
   "execution_count": 458,
   "metadata": {},
   "outputs": [],
   "source": [
    "corr = train.corr()"
   ]
  },
  {
   "cell_type": "code",
   "execution_count": 459,
   "metadata": {},
   "outputs": [
    {
     "data": {
      "text/plain": [
       "TARGET                                               1.000000\n",
       "DAYS_BIRTH                                           0.078239\n",
       "REGION_RATING_CLIENT_W_CITY                          0.060893\n",
       "REGION_RATING_CLIENT                                 0.058899\n",
       "NAME_INCOME_TYPE_Working                             0.057481\n",
       "DAYS_LAST_PHONE_CHANGE                               0.055218\n",
       "CODE_GENDER_M                                        0.054713\n",
       "DAYS_ID_PUBLISH                                      0.051457\n",
       "REG_CITY_NOT_WORK_CITY                               0.050994\n",
       "NAME_EDUCATION_TYPE_Secondary / secondary special    0.049824\n",
       "FLAG_EMP_PHONE                                       0.045982\n",
       "REG_CITY_NOT_LIVE_CITY                               0.044395\n",
       "FLAG_DOCUMENT_3                                      0.044346\n",
       "OCCUPATION_TYPE_Laborers                             0.043019\n",
       "DAYS_REGISTRATION                                    0.041975\n",
       "Name: TARGET, dtype: float64"
      ]
     },
     "execution_count": 459,
     "metadata": {},
     "output_type": "execute_result"
    }
   ],
   "source": [
    "corr['TARGET'].sort_values(ascending=False).head(15)"
   ]
  },
  {
   "cell_type": "code",
   "execution_count": 460,
   "metadata": {},
   "outputs": [
    {
     "data": {
      "text/plain": [
       "REGION_POPULATION_RELATIVE             -0.037227\n",
       "AMT_GOODS_PRICE                        -0.039645\n",
       "HOUSETYPE_MODE_block of flats          -0.040594\n",
       "EMERGENCYSTATE_MODE_No                 -0.042201\n",
       "FLOORSMAX_MODE                         -0.043226\n",
       "FLOORSMAX_MEDI                         -0.043768\n",
       "FLOORSMAX_AVG                          -0.044003\n",
       "DAYS_EMPLOYED                          -0.044932\n",
       "ORGANIZATION_TYPE_XNA                  -0.045987\n",
       "NAME_INCOME_TYPE_Pensioner             -0.046209\n",
       "CODE_GENDER_F                          -0.054704\n",
       "NAME_EDUCATION_TYPE_Higher education   -0.056593\n",
       "EXT_SOURCE_1                           -0.155317\n",
       "EXT_SOURCE_2                           -0.160472\n",
       "EXT_SOURCE_3                           -0.178919\n",
       "Name: TARGET, dtype: float64"
      ]
     },
     "execution_count": 460,
     "metadata": {},
     "output_type": "execute_result"
    }
   ],
   "source": [
    "corr['TARGET'].sort_values(ascending=False).tail(15)"
   ]
  },
  {
   "cell_type": "code",
   "execution_count": 461,
   "metadata": {},
   "outputs": [
    {
     "data": {
      "text/plain": [
       "<AxesSubplot:title={'center':'Days Birth'}>"
      ]
     },
     "execution_count": 461,
     "metadata": {},
     "output_type": "execute_result"
    },
    {
     "data": {
      "image/png": "[encoded data removed]",
      "text/plain": [
       "<Figure size 640x480 with 1 Axes>"
      ]
     },
     "metadata": {},
     "output_type": "display_data"
    }
   ],
   "source": [
    "# That's weird\n",
    "plt.title(\"Days Birth\")\n",
    "train[\"DAYS_BIRTH\"].hist(edgecolor='black', bins=30)"
   ]
  },
  {
   "cell_type": "code",
   "execution_count": 462,
   "metadata": {},
   "outputs": [
    {
     "data": {
      "text/plain": [
       "<AxesSubplot:title={'center':'Days Birth'}>"
      ]
     },
     "execution_count": 462,
     "metadata": {},
     "output_type": "execute_result"
    },
    {
     "data": {
      "image/png": "[encoded data removed]",
      "text/plain": [
       "<Figure size 640x480 with 1 Axes>"
      ]
     },
     "metadata": {},
     "output_type": "display_data"
    }
   ],
   "source": [
    "# That's weird\n",
    "plt.title(\"Days Birth\")\n",
    "test[\"DAYS_BIRTH\"].hist(edgecolor='black', bins=30)"
   ]
  },
  {
   "cell_type": "code",
   "execution_count": 463,
   "metadata": {},
   "outputs": [],
   "source": [
    "train[\"DAYS_BIRTH\"] = train['DAYS_BIRTH'] / -365\n",
    "test[\"DAYS_BIRTH\"] = test['DAYS_BIRTH'] / -365"
   ]
  },
  {
   "cell_type": "code",
   "execution_count": 464,
   "metadata": {},
   "outputs": [
    {
     "data": {
      "text/plain": [
       "<AxesSubplot:title={'center':'Days Employed'}>"
      ]
     },
     "execution_count": 464,
     "metadata": {},
     "output_type": "execute_result"
    },
    {
     "data": {
      "image/png": "[encoded data removed]",
      "text/plain": [
       "<Figure size 640x480 with 1 Axes>"
      ]
     },
     "metadata": {},
     "output_type": "display_data"
    }
   ],
   "source": [
    "# That's weird\n",
    "plt.title(\"Days Employed\")\n",
    "train[\"DAYS_EMPLOYED\"].hist(edgecolor='black')"
   ]
  },
  {
   "cell_type": "code",
   "execution_count": 465,
   "metadata": {},
   "outputs": [
    {
     "data": {
      "text/plain": [
       "<AxesSubplot:title={'center':'Days Employed'}>"
      ]
     },
     "execution_count": 465,
     "metadata": {},
     "output_type": "execute_result"
    },
    {
     "data": {
      "image/png": "[encoded data removed]",
      "text/plain": [
       "<Figure size 640x480 with 1 Axes>"
      ]
     },
     "metadata": {},
     "output_type": "display_data"
    }
   ],
   "source": [
    "# That's weird\n",
    "plt.title(\"Days Employed\")\n",
    "test[\"DAYS_EMPLOYED\"].hist(edgecolor='black')"
   ]
  },
  {
   "cell_type": "code",
   "execution_count": 466,
   "metadata": {},
   "outputs": [
    {
     "data": {
      "text/plain": [
       "count    307511.000000\n",
       "mean      63815.045904\n",
       "std      141275.766519\n",
       "min      -17912.000000\n",
       "25%       -2760.000000\n",
       "50%       -1213.000000\n",
       "75%        -289.000000\n",
       "max      365243.000000\n",
       "Name: DAYS_EMPLOYED, dtype: float64"
      ]
     },
     "execution_count": 466,
     "metadata": {},
     "output_type": "execute_result"
    }
   ],
   "source": [
    "train[\"DAYS_EMPLOYED\"].describe()"
   ]
  },
  {
   "cell_type": "code",
   "execution_count": 467,
   "metadata": {},
   "outputs": [
    {
     "name": "stdout",
     "output_type": "stream",
     "text": [
      "Percentage of rows that have days employed == 365243 is... 18.00716071945394 %\n",
      "Notice that 365243 days is 1000.6657534246575 years\n"
     ]
    }
   ],
   "source": [
    "percentage = train[train[\"DAYS_EMPLOYED\"]==365243].shape[0]/len(train)*100\n",
    "print(\"Percentage of rows that have days employed == 365243 is...\", percentage, \"%\")\n",
    "print(\"Notice that 365243 days is\", 365243/365, \"years\")"
   ]
  },
  {
   "cell_type": "code",
   "execution_count": 468,
   "metadata": {},
   "outputs": [],
   "source": [
    "# Make it into nan\n",
    "train['DAYS_EMPLOYED'] = train['DAYS_EMPLOYED'].replace(365243, np.nan)\n",
    "test['DAYS_EMPLOYED'] = test['DAYS_EMPLOYED'].replace(365243, np.nan)"
   ]
  },
  {
   "cell_type": "code",
   "execution_count": 469,
   "metadata": {},
   "outputs": [
    {
     "data": {
      "text/plain": [
       "<AxesSubplot:title={'center':'Days Employed'}>"
      ]
     },
     "execution_count": 469,
     "metadata": {},
     "output_type": "execute_result"
    },
    {
     "data": {
      "image/png": "[encoded data removed]",
      "text/plain": [
       "<Figure size 640x480 with 1 Axes>"
      ]
     },
     "metadata": {},
     "output_type": "display_data"
    }
   ],
   "source": [
    "# That's weird\n",
    "plt.title(\"Days Employed\")\n",
    "train[\"DAYS_EMPLOYED\"].hist(edgecolor='black', bins=10)"
   ]
  },
  {
   "cell_type": "code",
   "execution_count": 470,
   "metadata": {},
   "outputs": [],
   "source": [
    "train[\"DAYS_EMPLOYED\"] = train['DAYS_EMPLOYED'] / -365\n",
    "test[\"DAYS_EMPLOYED\"] = test['DAYS_EMPLOYED'] / -365"
   ]
  },
  {
   "cell_type": "code",
   "execution_count": 471,
   "metadata": {},
   "outputs": [
    {
     "data": {
      "text/html": [
       "<div>\n",
       "<style scoped>\n",
       "    .dataframe tbody tr th:only-of-type {\n",
       "        vertical-align: middle;\n",
       "    }\n",
       "\n",
       "    .dataframe tbody tr th {\n",
       "        vertical-align: top;\n",
       "    }\n",
       "\n",
       "    .dataframe thead th {\n",
       "        text-align: right;\n",
       "    }\n",
       "</style>\n",
       "<table border=\"1\" class=\"dataframe\">\n",
       "  <thead>\n",
       "    <tr style=\"text-align: right;\">\n",
       "      <th></th>\n",
       "      <th>SK_ID_CURR</th>\n",
       "      <th>NAME_CONTRACT_TYPE</th>\n",
       "      <th>FLAG_OWN_CAR</th>\n",
       "      <th>FLAG_OWN_REALTY</th>\n",
       "      <th>CNT_CHILDREN</th>\n",
       "      <th>AMT_INCOME_TOTAL</th>\n",
       "      <th>AMT_CREDIT</th>\n",
       "      <th>AMT_ANNUITY</th>\n",
       "      <th>AMT_GOODS_PRICE</th>\n",
       "      <th>REGION_POPULATION_RELATIVE</th>\n",
       "      <th>...</th>\n",
       "      <th>WALLSMATERIAL_MODE_Block</th>\n",
       "      <th>WALLSMATERIAL_MODE_Mixed</th>\n",
       "      <th>WALLSMATERIAL_MODE_Monolithic</th>\n",
       "      <th>WALLSMATERIAL_MODE_Others</th>\n",
       "      <th>WALLSMATERIAL_MODE_Panel</th>\n",
       "      <th>WALLSMATERIAL_MODE_Stone, brick</th>\n",
       "      <th>WALLSMATERIAL_MODE_Wooden</th>\n",
       "      <th>EMERGENCYSTATE_MODE_No</th>\n",
       "      <th>EMERGENCYSTATE_MODE_Yes</th>\n",
       "      <th>TARGET</th>\n",
       "    </tr>\n",
       "  </thead>\n",
       "  <tbody>\n",
       "    <tr>\n",
       "      <th>8</th>\n",
       "      <td>100011</td>\n",
       "      <td>0</td>\n",
       "      <td>0</td>\n",
       "      <td>1</td>\n",
       "      <td>0</td>\n",
       "      <td>112500.000</td>\n",
       "      <td>1019610.0</td>\n",
       "      <td>33826.5</td>\n",
       "      <td>913500.0</td>\n",
       "      <td>0.018634</td>\n",
       "      <td>...</td>\n",
       "      <td>0</td>\n",
       "      <td>0</td>\n",
       "      <td>0</td>\n",
       "      <td>0</td>\n",
       "      <td>0</td>\n",
       "      <td>0</td>\n",
       "      <td>0</td>\n",
       "      <td>0</td>\n",
       "      <td>0</td>\n",
       "      <td>0</td>\n",
       "    </tr>\n",
       "    <tr>\n",
       "      <th>11</th>\n",
       "      <td>100015</td>\n",
       "      <td>0</td>\n",
       "      <td>0</td>\n",
       "      <td>1</td>\n",
       "      <td>0</td>\n",
       "      <td>38419.155</td>\n",
       "      <td>148365.0</td>\n",
       "      <td>10678.5</td>\n",
       "      <td>135000.0</td>\n",
       "      <td>0.015221</td>\n",
       "      <td>...</td>\n",
       "      <td>0</td>\n",
       "      <td>0</td>\n",
       "      <td>0</td>\n",
       "      <td>0</td>\n",
       "      <td>0</td>\n",
       "      <td>0</td>\n",
       "      <td>0</td>\n",
       "      <td>0</td>\n",
       "      <td>0</td>\n",
       "      <td>0</td>\n",
       "    </tr>\n",
       "    <tr>\n",
       "      <th>23</th>\n",
       "      <td>100027</td>\n",
       "      <td>0</td>\n",
       "      <td>0</td>\n",
       "      <td>1</td>\n",
       "      <td>0</td>\n",
       "      <td>83250.000</td>\n",
       "      <td>239850.0</td>\n",
       "      <td>23850.0</td>\n",
       "      <td>225000.0</td>\n",
       "      <td>0.006296</td>\n",
       "      <td>...</td>\n",
       "      <td>0</td>\n",
       "      <td>1</td>\n",
       "      <td>0</td>\n",
       "      <td>0</td>\n",
       "      <td>0</td>\n",
       "      <td>0</td>\n",
       "      <td>0</td>\n",
       "      <td>1</td>\n",
       "      <td>0</td>\n",
       "      <td>0</td>\n",
       "    </tr>\n",
       "    <tr>\n",
       "      <th>38</th>\n",
       "      <td>100045</td>\n",
       "      <td>0</td>\n",
       "      <td>0</td>\n",
       "      <td>1</td>\n",
       "      <td>0</td>\n",
       "      <td>99000.000</td>\n",
       "      <td>247275.0</td>\n",
       "      <td>17338.5</td>\n",
       "      <td>225000.0</td>\n",
       "      <td>0.006207</td>\n",
       "      <td>...</td>\n",
       "      <td>0</td>\n",
       "      <td>0</td>\n",
       "      <td>0</td>\n",
       "      <td>0</td>\n",
       "      <td>0</td>\n",
       "      <td>1</td>\n",
       "      <td>0</td>\n",
       "      <td>1</td>\n",
       "      <td>0</td>\n",
       "      <td>0</td>\n",
       "    </tr>\n",
       "    <tr>\n",
       "      <th>43</th>\n",
       "      <td>100050</td>\n",
       "      <td>0</td>\n",
       "      <td>0</td>\n",
       "      <td>1</td>\n",
       "      <td>0</td>\n",
       "      <td>108000.000</td>\n",
       "      <td>746280.0</td>\n",
       "      <td>42970.5</td>\n",
       "      <td>675000.0</td>\n",
       "      <td>0.010966</td>\n",
       "      <td>...</td>\n",
       "      <td>0</td>\n",
       "      <td>0</td>\n",
       "      <td>0</td>\n",
       "      <td>0</td>\n",
       "      <td>1</td>\n",
       "      <td>0</td>\n",
       "      <td>0</td>\n",
       "      <td>1</td>\n",
       "      <td>0</td>\n",
       "      <td>0</td>\n",
       "    </tr>\n",
       "  </tbody>\n",
       "</table>\n",
       "<p>5 rows × 240 columns</p>\n",
       "</div>"
      ],
      "text/plain": [
       "    SK_ID_CURR  NAME_CONTRACT_TYPE  FLAG_OWN_CAR  FLAG_OWN_REALTY  \\\n",
       "8       100011                   0             0                1   \n",
       "11      100015                   0             0                1   \n",
       "23      100027                   0             0                1   \n",
       "38      100045                   0             0                1   \n",
       "43      100050                   0             0                1   \n",
       "\n",
       "    CNT_CHILDREN  AMT_INCOME_TOTAL  AMT_CREDIT  AMT_ANNUITY  AMT_GOODS_PRICE  \\\n",
       "8              0        112500.000   1019610.0      33826.5         913500.0   \n",
       "11             0         38419.155    148365.0      10678.5         135000.0   \n",
       "23             0         83250.000    239850.0      23850.0         225000.0   \n",
       "38             0         99000.000    247275.0      17338.5         225000.0   \n",
       "43             0        108000.000    746280.0      42970.5         675000.0   \n",
       "\n",
       "    REGION_POPULATION_RELATIVE  ...  WALLSMATERIAL_MODE_Block  \\\n",
       "8                     0.018634  ...                         0   \n",
       "11                    0.015221  ...                         0   \n",
       "23                    0.006296  ...                         0   \n",
       "38                    0.006207  ...                         0   \n",
       "43                    0.010966  ...                         0   \n",
       "\n",
       "    WALLSMATERIAL_MODE_Mixed  WALLSMATERIAL_MODE_Monolithic  \\\n",
       "8                          0                              0   \n",
       "11                         0                              0   \n",
       "23                         1                              0   \n",
       "38                         0                              0   \n",
       "43                         0                              0   \n",
       "\n",
       "    WALLSMATERIAL_MODE_Others  WALLSMATERIAL_MODE_Panel  \\\n",
       "8                           0                         0   \n",
       "11                          0                         0   \n",
       "23                          0                         0   \n",
       "38                          0                         0   \n",
       "43                          0                         1   \n",
       "\n",
       "    WALLSMATERIAL_MODE_Stone, brick  WALLSMATERIAL_MODE_Wooden  \\\n",
       "8                                 0                          0   \n",
       "11                                0                          0   \n",
       "23                                0                          0   \n",
       "38                                1                          0   \n",
       "43                                0                          0   \n",
       "\n",
       "    EMERGENCYSTATE_MODE_No  EMERGENCYSTATE_MODE_Yes  TARGET  \n",
       "8                        0                        0       0  \n",
       "11                       0                        0       0  \n",
       "23                       1                        0       0  \n",
       "38                       1                        0       0  \n",
       "43                       1                        0       0  \n",
       "\n",
       "[5 rows x 240 columns]"
      ]
     },
     "execution_count": 471,
     "metadata": {},
     "output_type": "execute_result"
    }
   ],
   "source": [
    "temp = train[train['DAYS_EMPLOYED'].isna()]\n",
    "temp.head()"
   ]
  },
  {
   "cell_type": "code",
   "execution_count": 472,
   "metadata": {},
   "outputs": [
    {
     "data": {
      "text/plain": [
       "<AxesSubplot:title={'center':'Target on troublesome DAYS_EMPLOYED rows'}>"
      ]
     },
     "execution_count": 472,
     "metadata": {},
     "output_type": "execute_result"
    },
    {
     "data": {
      "image/png": "[encoded data removed]",
      "text/plain": [
       "<Figure size 640x480 with 1 Axes>"
      ]
     },
     "metadata": {},
     "output_type": "display_data"
    }
   ],
   "source": [
    "plt.title(\"Target on troublesome DAYS_EMPLOYED rows\")\n",
    "temp[\"TARGET\"].hist()"
   ]
  },
  {
   "cell_type": "code",
   "execution_count": 473,
   "metadata": {},
   "outputs": [
    {
     "data": {
      "text/html": [
       "<div>\n",
       "<style scoped>\n",
       "    .dataframe tbody tr th:only-of-type {\n",
       "        vertical-align: middle;\n",
       "    }\n",
       "\n",
       "    .dataframe tbody tr th {\n",
       "        vertical-align: top;\n",
       "    }\n",
       "\n",
       "    .dataframe thead th {\n",
       "        text-align: right;\n",
       "    }\n",
       "</style>\n",
       "<table border=\"1\" class=\"dataframe\">\n",
       "  <thead>\n",
       "    <tr style=\"text-align: right;\">\n",
       "      <th></th>\n",
       "      <th>SK_ID_CURR</th>\n",
       "      <th>NAME_CONTRACT_TYPE</th>\n",
       "      <th>FLAG_OWN_CAR</th>\n",
       "      <th>FLAG_OWN_REALTY</th>\n",
       "      <th>CNT_CHILDREN</th>\n",
       "      <th>AMT_INCOME_TOTAL</th>\n",
       "      <th>AMT_CREDIT</th>\n",
       "      <th>AMT_ANNUITY</th>\n",
       "      <th>AMT_GOODS_PRICE</th>\n",
       "      <th>REGION_POPULATION_RELATIVE</th>\n",
       "      <th>...</th>\n",
       "      <th>WALLSMATERIAL_MODE_Block</th>\n",
       "      <th>WALLSMATERIAL_MODE_Mixed</th>\n",
       "      <th>WALLSMATERIAL_MODE_Monolithic</th>\n",
       "      <th>WALLSMATERIAL_MODE_Others</th>\n",
       "      <th>WALLSMATERIAL_MODE_Panel</th>\n",
       "      <th>WALLSMATERIAL_MODE_Stone, brick</th>\n",
       "      <th>WALLSMATERIAL_MODE_Wooden</th>\n",
       "      <th>EMERGENCYSTATE_MODE_No</th>\n",
       "      <th>EMERGENCYSTATE_MODE_Yes</th>\n",
       "      <th>TARGET</th>\n",
       "    </tr>\n",
       "  </thead>\n",
       "  <tbody>\n",
       "    <tr>\n",
       "      <th>count</th>\n",
       "      <td>55374.000000</td>\n",
       "      <td>55374.000000</td>\n",
       "      <td>55374.000000</td>\n",
       "      <td>55374.000000</td>\n",
       "      <td>55374.000000</td>\n",
       "      <td>5.537400e+04</td>\n",
       "      <td>5.537400e+04</td>\n",
       "      <td>55374.000000</td>\n",
       "      <td>5.535200e+04</td>\n",
       "      <td>55374.000000</td>\n",
       "      <td>...</td>\n",
       "      <td>55374.000000</td>\n",
       "      <td>55374.000000</td>\n",
       "      <td>55374.000000</td>\n",
       "      <td>55374.000000</td>\n",
       "      <td>55374.000000</td>\n",
       "      <td>55374.000000</td>\n",
       "      <td>55374.000000</td>\n",
       "      <td>55374.000000</td>\n",
       "      <td>55374.000000</td>\n",
       "      <td>55374.000000</td>\n",
       "    </tr>\n",
       "    <tr>\n",
       "      <th>mean</th>\n",
       "      <td>278480.472424</td>\n",
       "      <td>0.060787</td>\n",
       "      <td>0.183642</td>\n",
       "      <td>0.762632</td>\n",
       "      <td>0.046123</td>\n",
       "      <td>1.363956e+05</td>\n",
       "      <td>5.426899e+05</td>\n",
       "      <td>23904.303202</td>\n",
       "      <td>4.882973e+05</td>\n",
       "      <td>0.020749</td>\n",
       "      <td>...</td>\n",
       "      <td>0.031459</td>\n",
       "      <td>0.006790</td>\n",
       "      <td>0.004659</td>\n",
       "      <td>0.004804</td>\n",
       "      <td>0.211309</td>\n",
       "      <td>0.205457</td>\n",
       "      <td>0.016614</td>\n",
       "      <td>0.507224</td>\n",
       "      <td>0.006899</td>\n",
       "      <td>0.053996</td>\n",
       "    </tr>\n",
       "    <tr>\n",
       "      <th>std</th>\n",
       "      <td>102674.560705</td>\n",
       "      <td>0.238941</td>\n",
       "      <td>0.387196</td>\n",
       "      <td>0.425473</td>\n",
       "      <td>0.275873</td>\n",
       "      <td>7.666086e+04</td>\n",
       "      <td>3.784991e+05</td>\n",
       "      <td>13308.379238</td>\n",
       "      <td>3.471510e+05</td>\n",
       "      <td>0.013635</td>\n",
       "      <td>...</td>\n",
       "      <td>0.174556</td>\n",
       "      <td>0.082123</td>\n",
       "      <td>0.068100</td>\n",
       "      <td>0.069143</td>\n",
       "      <td>0.408240</td>\n",
       "      <td>0.404039</td>\n",
       "      <td>0.127822</td>\n",
       "      <td>0.499952</td>\n",
       "      <td>0.082771</td>\n",
       "      <td>0.226013</td>\n",
       "    </tr>\n",
       "    <tr>\n",
       "      <th>min</th>\n",
       "      <td>100011.000000</td>\n",
       "      <td>0.000000</td>\n",
       "      <td>0.000000</td>\n",
       "      <td>0.000000</td>\n",
       "      <td>0.000000</td>\n",
       "      <td>2.565000e+04</td>\n",
       "      <td>4.500000e+04</td>\n",
       "      <td>1615.500000</td>\n",
       "      <td>4.500000e+04</td>\n",
       "      <td>0.000290</td>\n",
       "      <td>...</td>\n",
       "      <td>0.000000</td>\n",
       "      <td>0.000000</td>\n",
       "      <td>0.000000</td>\n",
       "      <td>0.000000</td>\n",
       "      <td>0.000000</td>\n",
       "      <td>0.000000</td>\n",
       "      <td>0.000000</td>\n",
       "      <td>0.000000</td>\n",
       "      <td>0.000000</td>\n",
       "      <td>0.000000</td>\n",
       "    </tr>\n",
       "    <tr>\n",
       "      <th>25%</th>\n",
       "      <td>189622.250000</td>\n",
       "      <td>0.000000</td>\n",
       "      <td>0.000000</td>\n",
       "      <td>1.000000</td>\n",
       "      <td>0.000000</td>\n",
       "      <td>9.000000e+04</td>\n",
       "      <td>2.547000e+05</td>\n",
       "      <td>14503.500000</td>\n",
       "      <td>2.250000e+05</td>\n",
       "      <td>0.010032</td>\n",
       "      <td>...</td>\n",
       "      <td>0.000000</td>\n",
       "      <td>0.000000</td>\n",
       "      <td>0.000000</td>\n",
       "      <td>0.000000</td>\n",
       "      <td>0.000000</td>\n",
       "      <td>0.000000</td>\n",
       "      <td>0.000000</td>\n",
       "      <td>0.000000</td>\n",
       "      <td>0.000000</td>\n",
       "      <td>0.000000</td>\n",
       "    </tr>\n",
       "    <tr>\n",
       "      <th>50%</th>\n",
       "      <td>279001.500000</td>\n",
       "      <td>0.000000</td>\n",
       "      <td>0.000000</td>\n",
       "      <td>1.000000</td>\n",
       "      <td>0.000000</td>\n",
       "      <td>1.170000e+05</td>\n",
       "      <td>4.578345e+05</td>\n",
       "      <td>21775.500000</td>\n",
       "      <td>4.500000e+05</td>\n",
       "      <td>0.018850</td>\n",
       "      <td>...</td>\n",
       "      <td>0.000000</td>\n",
       "      <td>0.000000</td>\n",
       "      <td>0.000000</td>\n",
       "      <td>0.000000</td>\n",
       "      <td>0.000000</td>\n",
       "      <td>0.000000</td>\n",
       "      <td>0.000000</td>\n",
       "      <td>1.000000</td>\n",
       "      <td>0.000000</td>\n",
       "      <td>0.000000</td>\n",
       "    </tr>\n",
       "    <tr>\n",
       "      <th>75%</th>\n",
       "      <td>367053.000000</td>\n",
       "      <td>0.000000</td>\n",
       "      <td>0.000000</td>\n",
       "      <td>1.000000</td>\n",
       "      <td>0.000000</td>\n",
       "      <td>1.665000e+05</td>\n",
       "      <td>7.551900e+05</td>\n",
       "      <td>29943.000000</td>\n",
       "      <td>6.750000e+05</td>\n",
       "      <td>0.026392</td>\n",
       "      <td>...</td>\n",
       "      <td>0.000000</td>\n",
       "      <td>0.000000</td>\n",
       "      <td>0.000000</td>\n",
       "      <td>0.000000</td>\n",
       "      <td>0.000000</td>\n",
       "      <td>0.000000</td>\n",
       "      <td>0.000000</td>\n",
       "      <td>1.000000</td>\n",
       "      <td>0.000000</td>\n",
       "      <td>0.000000</td>\n",
       "    </tr>\n",
       "    <tr>\n",
       "      <th>max</th>\n",
       "      <td>456252.000000</td>\n",
       "      <td>1.000000</td>\n",
       "      <td>1.000000</td>\n",
       "      <td>1.000000</td>\n",
       "      <td>14.000000</td>\n",
       "      <td>2.250000e+06</td>\n",
       "      <td>3.312162e+06</td>\n",
       "      <td>225000.000000</td>\n",
       "      <td>3.150000e+06</td>\n",
       "      <td>0.072508</td>\n",
       "      <td>...</td>\n",
       "      <td>1.000000</td>\n",
       "      <td>1.000000</td>\n",
       "      <td>1.000000</td>\n",
       "      <td>1.000000</td>\n",
       "      <td>1.000000</td>\n",
       "      <td>1.000000</td>\n",
       "      <td>1.000000</td>\n",
       "      <td>1.000000</td>\n",
       "      <td>1.000000</td>\n",
       "      <td>1.000000</td>\n",
       "    </tr>\n",
       "  </tbody>\n",
       "</table>\n",
       "<p>8 rows × 240 columns</p>\n",
       "</div>"
      ],
      "text/plain": [
       "          SK_ID_CURR  NAME_CONTRACT_TYPE  FLAG_OWN_CAR  FLAG_OWN_REALTY  \\\n",
       "count   55374.000000        55374.000000  55374.000000     55374.000000   \n",
       "mean   278480.472424            0.060787      0.183642         0.762632   \n",
       "std    102674.560705            0.238941      0.387196         0.425473   \n",
       "min    100011.000000            0.000000      0.000000         0.000000   \n",
       "25%    189622.250000            0.000000      0.000000         1.000000   \n",
       "50%    279001.500000            0.000000      0.000000         1.000000   \n",
       "75%    367053.000000            0.000000      0.000000         1.000000   \n",
       "max    456252.000000            1.000000      1.000000         1.000000   \n",
       "\n",
       "       CNT_CHILDREN  AMT_INCOME_TOTAL    AMT_CREDIT    AMT_ANNUITY  \\\n",
       "count  55374.000000      5.537400e+04  5.537400e+04   55374.000000   \n",
       "mean       0.046123      1.363956e+05  5.426899e+05   23904.303202   \n",
       "std        0.275873      7.666086e+04  3.784991e+05   13308.379238   \n",
       "min        0.000000      2.565000e+04  4.500000e+04    1615.500000   \n",
       "25%        0.000000      9.000000e+04  2.547000e+05   14503.500000   \n",
       "50%        0.000000      1.170000e+05  4.578345e+05   21775.500000   \n",
       "75%        0.000000      1.665000e+05  7.551900e+05   29943.000000   \n",
       "max       14.000000      2.250000e+06  3.312162e+06  225000.000000   \n",
       "\n",
       "       AMT_GOODS_PRICE  REGION_POPULATION_RELATIVE  ...  \\\n",
       "count     5.535200e+04                55374.000000  ...   \n",
       "mean      4.882973e+05                    0.020749  ...   \n",
       "std       3.471510e+05                    0.013635  ...   \n",
       "min       4.500000e+04                    0.000290  ...   \n",
       "25%       2.250000e+05                    0.010032  ...   \n",
       "50%       4.500000e+05                    0.018850  ...   \n",
       "75%       6.750000e+05                    0.026392  ...   \n",
       "max       3.150000e+06                    0.072508  ...   \n",
       "\n",
       "       WALLSMATERIAL_MODE_Block  WALLSMATERIAL_MODE_Mixed  \\\n",
       "count              55374.000000              55374.000000   \n",
       "mean                   0.031459                  0.006790   \n",
       "std                    0.174556                  0.082123   \n",
       "min                    0.000000                  0.000000   \n",
       "25%                    0.000000                  0.000000   \n",
       "50%                    0.000000                  0.000000   \n",
       "75%                    0.000000                  0.000000   \n",
       "max                    1.000000                  1.000000   \n",
       "\n",
       "       WALLSMATERIAL_MODE_Monolithic  WALLSMATERIAL_MODE_Others  \\\n",
       "count                   55374.000000               55374.000000   \n",
       "mean                        0.004659                   0.004804   \n",
       "std                         0.068100                   0.069143   \n",
       "min                         0.000000                   0.000000   \n",
       "25%                         0.000000                   0.000000   \n",
       "50%                         0.000000                   0.000000   \n",
       "75%                         0.000000                   0.000000   \n",
       "max                         1.000000                   1.000000   \n",
       "\n",
       "       WALLSMATERIAL_MODE_Panel  WALLSMATERIAL_MODE_Stone, brick  \\\n",
       "count              55374.000000                     55374.000000   \n",
       "mean                   0.211309                         0.205457   \n",
       "std                    0.408240                         0.404039   \n",
       "min                    0.000000                         0.000000   \n",
       "25%                    0.000000                         0.000000   \n",
       "50%                    0.000000                         0.000000   \n",
       "75%                    0.000000                         0.000000   \n",
       "max                    1.000000                         1.000000   \n",
       "\n",
       "       WALLSMATERIAL_MODE_Wooden  EMERGENCYSTATE_MODE_No  \\\n",
       "count               55374.000000            55374.000000   \n",
       "mean                    0.016614                0.507224   \n",
       "std                     0.127822                0.499952   \n",
       "min                     0.000000                0.000000   \n",
       "25%                     0.000000                0.000000   \n",
       "50%                     0.000000                1.000000   \n",
       "75%                     0.000000                1.000000   \n",
       "max                     1.000000                1.000000   \n",
       "\n",
       "       EMERGENCYSTATE_MODE_Yes        TARGET  \n",
       "count             55374.000000  55374.000000  \n",
       "mean                  0.006899      0.053996  \n",
       "std                   0.082771      0.226013  \n",
       "min                   0.000000      0.000000  \n",
       "25%                   0.000000      0.000000  \n",
       "50%                   0.000000      0.000000  \n",
       "75%                   0.000000      0.000000  \n",
       "max                   1.000000      1.000000  \n",
       "\n",
       "[8 rows x 240 columns]"
      ]
     },
     "execution_count": 473,
     "metadata": {},
     "output_type": "execute_result"
    }
   ],
   "source": [
    "temp.describe()"
   ]
  },
  {
   "cell_type": "code",
   "execution_count": 474,
   "metadata": {},
   "outputs": [
    {
     "data": {
      "text/plain": [
       "9274"
      ]
     },
     "execution_count": 474,
     "metadata": {},
     "output_type": "execute_result"
    }
   ],
   "source": [
    "test[\"DAYS_EMPLOYED\"].isna().sum()"
   ]
  },
  {
   "cell_type": "code",
   "execution_count": 475,
   "metadata": {},
   "outputs": [],
   "source": [
    "# Assuming 'train' is your dataset\n",
    "column_to_impute = \"DAYS_EMPLOYED\"\n",
    "\n",
    "imptr = IterativeImputer(estimator=xgb.XGBRegressor(n_estimators=1000,\n",
    "                                                    random_state=42,\n",
    "                                                    tree_method='gpu_hist',\n",
    "                                                    ),\n",
    "                         missing_values=np.nan,\n",
    "                         max_iter=10,\n",
    "                         initial_strategy='mean',\n",
    "                         imputation_order='ascending',\n",
    "                         verbose=2,\n",
    "                         random_state=42,\n",
    "                         n_nearest_features=5\n",
    "                         )\n",
    "\n",
    "train[column_to_impute] = imptr.fit_transform(train[column_to_impute].values.reshape(-1, 1))\n",
    "test[column_to_impute] = imptr.transform(test[column_to_impute].values.reshape(-1, 1))"
   ]
  },
  {
   "cell_type": "code",
   "execution_count": 476,
   "metadata": {},
   "outputs": [
    {
     "data": {
      "text/plain": [
       "<AxesSubplot:title={'center':'Days Employed'}>"
      ]
     },
     "execution_count": 476,
     "metadata": {},
     "output_type": "execute_result"
    },
    {
     "data": {
      "image/png": "[encoded data removed]",
      "text/plain": [
       "<Figure size 640x480 with 1 Axes>"
      ]
     },
     "metadata": {},
     "output_type": "display_data"
    }
   ],
   "source": [
    "# That's weird\n",
    "plt.title(\"Days Employed\")\n",
    "train[\"DAYS_EMPLOYED\"].hist(edgecolor='black', bins=50)"
   ]
  },
  {
   "cell_type": "code",
   "execution_count": 477,
   "metadata": {},
   "outputs": [
    {
     "data": {
      "text/plain": [
       "<AxesSubplot:title={'center':'Days Employed'}>"
      ]
     },
     "execution_count": 477,
     "metadata": {},
     "output_type": "execute_result"
    },
    {
     "data": {
      "image/png": "[encoded data removed]",
      "text/plain": [
       "<Figure size 640x480 with 1 Axes>"
      ]
     },
     "metadata": {},
     "output_type": "display_data"
    }
   ],
   "source": [
    "# That's weird\n",
    "plt.title(\"Days Employed\")\n",
    "test[\"DAYS_EMPLOYED\"].hist(edgecolor='black', bins=50)"
   ]
  },
  {
   "cell_type": "code",
   "execution_count": 478,
   "metadata": {},
   "outputs": [
    {
     "data": {
      "text/plain": [
       "6.531971     55374\n",
       "0.547945       156\n",
       "0.613699       152\n",
       "0.630137       151\n",
       "0.545205       151\n",
       "             ...  \n",
       "38.249315        1\n",
       "32.402740        1\n",
       "27.879452        1\n",
       "25.915068        1\n",
       "23.819178        1\n",
       "Name: DAYS_EMPLOYED, Length: 12574, dtype: int64"
      ]
     },
     "execution_count": 478,
     "metadata": {},
     "output_type": "execute_result"
    }
   ],
   "source": [
    "train[\"DAYS_EMPLOYED\"].value_counts()"
   ]
  },
  {
   "cell_type": "code",
   "execution_count": 479,
   "metadata": {},
   "outputs": [
    {
     "data": {
      "text/plain": [
       "6.531971     9274\n",
       "3.065753       32\n",
       "1.065753       31\n",
       "3.397260       30\n",
       "0.405479       28\n",
       "             ... \n",
       "24.668493       1\n",
       "9.473973        1\n",
       "22.186301       1\n",
       "18.041096       1\n",
       "17.947945       1\n",
       "Name: DAYS_EMPLOYED, Length: 7863, dtype: int64"
      ]
     },
     "execution_count": 479,
     "metadata": {},
     "output_type": "execute_result"
    }
   ],
   "source": [
    "test[\"DAYS_EMPLOYED\"].value_counts()"
   ]
  },
  {
   "cell_type": "code",
   "execution_count": null,
   "metadata": {},
   "outputs": [],
   "source": []
  }
 ],
 "metadata": {
  "kernelspec": {
   "display_name": "Python 3",
   "language": "python",
   "name": "python3"
  },
  "language_info": {
   "codemirror_mode": {
    "name": "ipython",
    "version": 3
   },
   "file_extension": ".py",
   "mimetype": "text/x-python",
   "name": "python",
   "nbconvert_exporter": "python",
   "pygments_lexer": "ipython3",
   "version": "3.10.5"
  },
  "orig_nbformat": 4
 },
 "nbformat": 4,
 "nbformat_minor": 2
}
